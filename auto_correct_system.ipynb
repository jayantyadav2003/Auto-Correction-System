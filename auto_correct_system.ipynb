{
  "cells": [
    {
      "cell_type": "markdown",
      "metadata": {
        "id": "GFomJopMSAy6"
      },
      "source": [
        "<p style=\"background-color:gray; font-family:newtimeroman; font-size:180%; text-align:center\">Auto-Correct System</p>"
      ]
    },
    {
      "cell_type": "code",
      "execution_count": 1,
      "metadata": {},
      "outputs": [
        {
          "name": "stdout",
          "output_type": "stream",
          "text": [
            "Collecting nltk\n",
            "  Downloading nltk-3.7-py3-none-any.whl (1.5 MB)\n",
            "Requirement already satisfied: tqdm in c:\\users\\jayant\\appdata\\local\\programs\\python\\python39\\lib\\site-packages (from nltk) (4.63.0)\n",
            "Collecting regex>=2021.8.3\n",
            "  Downloading regex-2022.7.25-cp39-cp39-win_amd64.whl (262 kB)\n",
            "Collecting click\n",
            "  Downloading click-8.1.3-py3-none-any.whl (96 kB)\n",
            "Requirement already satisfied: joblib in c:\\users\\jayant\\appdata\\local\\programs\\python\\python39\\lib\\site-packages (from nltk) (1.0.1)\n",
            "Requirement already satisfied: colorama in c:\\users\\jayant\\appdata\\local\\programs\\python\\python39\\lib\\site-packages (from click->nltk) (0.4.4)\n",
            "Installing collected packages: regex, click, nltk\n",
            "Successfully installed click-8.1.3 nltk-3.7 regex-2022.7.25\n"
          ]
        },
        {
          "name": "stderr",
          "output_type": "stream",
          "text": [
            "WARNING: You are using pip version 21.1.1; however, version 22.2.2 is available.\n",
            "You should consider upgrading via the 'c:\\users\\jayant\\appdata\\local\\programs\\python\\python39\\python.exe -m pip install --upgrade pip' command.\n"
          ]
        }
      ],
      "source": [
        "# Downloading nltk (natural language toolkit) library for handling text type data\n",
        "! pip install nltk"
      ]
    },
    {
      "cell_type": "code",
      "execution_count": 2,
      "metadata": {
        "execution": {
          "iopub.execute_input": "2022-08-11T09:35:59.381101Z",
          "iopub.status.busy": "2022-08-11T09:35:59.380115Z",
          "iopub.status.idle": "2022-08-11T09:36:01.367151Z",
          "shell.execute_reply": "2022-08-11T09:36:01.365684Z",
          "shell.execute_reply.started": "2022-08-11T09:35:59.380976Z"
        },
        "id": "tDulMmVySAy7",
        "trusted": true
      },
      "outputs": [],
      "source": [
        "# Importing necessary libraries\n",
        "import os\n",
        "import re \n",
        "import numpy as np \n",
        "import pandas as pd \n",
        "from collections import Counter # used to create frequency dictionary\n",
        "import nltk"
      ]
    },
    {
      "cell_type": "markdown",
      "metadata": {
        "id": "iiY1dgQqSAy8"
      },
      "source": [
        "# What is Auto-correct system ?\n",
        "\n",
        "The task of an auto-correct system is finding out which words in a document are misspelled. These mispelled words might be presented to a user by underlining that words. Correction is the task of substituting the well-spelled word for misspellings.\n",
        "\n",
        "\n",
        "\n",
        "    Misspelled Words                            Corrected Words\n",
        "\n",
        "    Machin                                                Machine\n",
        "              ----->     AutoCorrect System  ----->   \n",
        "    Lerning                                              Learning"
      ]
    },
    {
      "cell_type": "markdown",
      "metadata": {
        "id": "L2A3KMCYSAy8"
      },
      "source": [
        "`The very first requirement of auto-correct system is data. I have checked multiple data sources and will be using one of them.`"
      ]
    },
    {
      "cell_type": "markdown",
      "metadata": {
        "id": "FQi6Z_iiSAy8"
      },
      "source": [
        "## Data Requirement\n",
        "\n",
        "We need a trusted text corpus that we'll use to build the auto-correct system. There are many public domain text corpus. Since it's a unsupervised type of problem here what we need is just text. You can use any competition data or any other public dataset that has text field column. I'll be combining multiple datasets to making large corpus and then build the system on top of that.\n",
        "\n",
        "Let's look at the corpus."
      ]
    },
    {
      "cell_type": "code",
      "execution_count": 3,
      "metadata": {
        "execution": {
          "iopub.execute_input": "2022-08-08T11:12:00.075656Z",
          "iopub.status.busy": "2022-08-08T11:12:00.074848Z",
          "iopub.status.idle": "2022-08-08T11:12:00.098238Z",
          "shell.execute_reply": "2022-08-08T11:12:00.097395Z",
          "shell.execute_reply.started": "2022-08-08T11:12:00.075618Z"
        },
        "id": "Is3goNG4SAy9",
        "trusted": true
      },
      "outputs": [],
      "source": [
        "# Lets see the text type of data\n",
        "with open('Final_data.txt', 'r',encoding='ISO-8859-1') as f:\n",
        "    file = f.readlines()"
      ]
    },
    {
      "cell_type": "code",
      "execution_count": 237,
      "metadata": {
        "colab": {
          "base_uri": "https://localhost:8080/"
        },
        "execution": {
          "iopub.execute_input": "2022-08-08T11:12:00.249452Z",
          "iopub.status.busy": "2022-08-08T11:12:00.249017Z",
          "iopub.status.idle": "2022-08-08T11:12:00.256689Z",
          "shell.execute_reply": "2022-08-08T11:12:00.255609Z",
          "shell.execute_reply.started": "2022-08-08T11:12:00.249413Z"
        },
        "id": "BN1Jc3sCSAy9",
        "outputId": "50df1b80-15f1-49e2-c870-3e2ee41430e5",
        "trusted": true
      },
      "outputs": [
        {
          "data": {
            "text/plain": [
              "['aardvark\\n',\n",
              " 'aardwolf\\n',\n",
              " 'aaron\\n',\n",
              " 'aback\\n',\n",
              " 'abacus\\n',\n",
              " 'abaft\\n',\n",
              " 'abalone\\n',\n",
              " 'abandon\\n',\n",
              " 'abandoned\\n',\n",
              " 'abandonment\\n',\n",
              " 'abandons\\n',\n",
              " 'abase\\n',\n",
              " 'abased\\n',\n",
              " 'abasement\\n',\n",
              " 'abash\\n',\n",
              " 'abashed\\n',\n",
              " 'abate\\n',\n",
              " 'abated\\n',\n",
              " 'abatement\\n',\n",
              " 'abates\\n',\n",
              " 'abattoir\\n',\n",
              " 'abattoirs\\n',\n",
              " 'abbe\\n',\n",
              " 'abbess\\n',\n",
              " 'abbey\\n',\n",
              " 'abbeys\\n',\n",
              " 'abbot\\n',\n",
              " 'abbots\\n',\n",
              " 'abbreviate\\n',\n",
              " 'abbreviated\\n']"
            ]
          },
          "execution_count": 237,
          "metadata": {},
          "output_type": "execute_result"
        }
      ],
      "source": [
        "# A small sample of the data\n",
        "file[:30]"
      ]
    },
    {
      "cell_type": "markdown",
      "metadata": {
        "id": "ZL5XbFYuSAy9"
      },
      "source": [
        "Now we need to process this corpus. Since it's pretty clean corpus we need to do only two things - Tokenizing and Lowercasing."
      ]
    },
    {
      "cell_type": "markdown",
      "metadata": {
        "id": "LDQ0EgebtWM5"
      },
      "source": [
        "### 1. Tokenizing - \n",
        "Tokenization is breaking the raw text into small chunks. Tokenization breaks the raw text into words, sentences called tokens.\n",
        "\n",
        "### 2. Lowercasing -\n",
        "Lowercasing means converting every text to lowercase."
      ]
    },
    {
      "cell_type": "code",
      "execution_count": 4,
      "metadata": {
        "execution": {
          "iopub.execute_input": "2022-08-08T11:12:00.405083Z",
          "iopub.status.busy": "2022-08-08T11:12:00.403995Z",
          "iopub.status.idle": "2022-08-08T11:12:00.410972Z",
          "shell.execute_reply": "2022-08-08T11:12:00.410000Z",
          "shell.execute_reply.started": "2022-08-08T11:12:00.405048Z"
        },
        "id": "o0_RFQt3SAy9",
        "trusted": true
      },
      "outputs": [],
      "source": [
        "# Tokenizing and Lowercasing\n",
        "def process_data(lines):\n",
        "    \"\"\"\n",
        "    Input: \n",
        "        A file_name which is found in your current directory. You just have to read it in. \n",
        "    Output: \n",
        "        words: a list containing all the words in the corpus (text file you read) in lower case. \n",
        "    \"\"\"\n",
        "    words = []        \n",
        "    for line in lines:\n",
        "        line = line.strip()\n",
        "        line=line.lower()\n",
        "        word = re.findall(r'\\w+', line) # Extracting only words\n",
        "        words.extend(word)\n",
        "    \n",
        "    return words"
      ]
    },
    {
      "cell_type": "code",
      "execution_count": 5,
      "metadata": {
        "colab": {
          "base_uri": "https://localhost:8080/"
        },
        "execution": {
          "iopub.execute_input": "2022-08-08T11:12:00.609398Z",
          "iopub.status.busy": "2022-08-08T11:12:00.608243Z",
          "iopub.status.idle": "2022-08-08T11:12:00.733866Z",
          "shell.execute_reply": "2022-08-08T11:12:00.732775Z",
          "shell.execute_reply.started": "2022-08-08T11:12:00.609346Z"
        },
        "id": "m1mP2YgkSAy9",
        "outputId": "776a202c-d279-4f2b-e50d-ac9c87d5f2e8",
        "trusted": true
      },
      "outputs": [
        {
          "name": "stdout",
          "output_type": "stream",
          "text": [
            "The first ten words in the text are: \n",
            "['aardvark', 'aardwolf', 'aaron', 'aback', 'abacus', 'abaft', 'abalone', 'abandon', 'abandoned', 'abandonment']\n",
            "\n",
            "\n",
            "There are 58110 unique words in the vocabulary.\n"
          ]
        }
      ],
      "source": [
        "# Applying above function on text data file and making vocab\n",
        "word_l = process_data(file)\n",
        "vocab = set(word_l)\n",
        "print(f\"The first ten words in the text are: \\n{word_l[0:10]}\")\n",
        "print('\\n')\n",
        "print(f\"There are {len(vocab)} unique words in the vocabulary.\")"
      ]
    },
    {
      "cell_type": "markdown",
      "metadata": {
        "id": "prKCKU6CSAy-"
      },
      "source": [
        "# Architecture\n",
        "<div>\n",
        "<img style=\"align:center\", src=\"https://miro.medium.com/max/875/1*ZpPa5v65cb2zSEzBW8wYMA.png\">\n",
        "    <hr>\n",
        "</div>"
      ]
    },
    {
      "cell_type": "markdown",
      "metadata": {
        "id": "xw6aa7-SSAy-"
      },
      "source": [
        "### This auto-correct architecture has 4 components -\n",
        "- **1) Filtering Mispells** : One simple approach could be checking if a word is there in the vocabulary or not. \n",
        "- **2) Word Suggestion Mechanism** : This mechnism suggests candidate words based on deletion, insertion, switch or replace of one/two characters in the original word.\n",
        "- **3) Probability Distribution Mechanism** : The probability distribution {key(word) : value(probability)} is created calculated using a large text corpus. Probability of each candidate is found using this distribution and the most probable candidate is the final one.\n",
        "- **4) Replace Mispells** : Simple replace the mispelled word with the most probable suggestion.\n",
        "\n",
        "We'll impliment each part separetely."
      ]
    },
    {
      "cell_type": "markdown",
      "metadata": {
        "id": "imK4MZOISAy-"
      },
      "source": [
        "### Artchitecture Part 1 : (Filtering Mispells)\n",
        "\n",
        "Creating a function that tokenizes the sentences and checks the availability of each word of sentence in Vacabulary and return a list of wrong words."
      ]
    },
    {
      "cell_type": "code",
      "execution_count": 6,
      "metadata": {
        "execution": {
          "iopub.execute_input": "2022-08-08T11:12:00.790435Z",
          "iopub.status.busy": "2022-08-08T11:12:00.789976Z",
          "iopub.status.idle": "2022-08-08T11:12:00.796992Z",
          "shell.execute_reply": "2022-08-08T11:12:00.795838Z",
          "shell.execute_reply.started": "2022-08-08T11:12:00.790391Z"
        },
        "id": "o5EYDIAySAy-",
        "trusted": true
      },
      "outputs": [],
      "source": [
        "# Function for finding a word which is not in vocabulary\n",
        "def find_wrong_word(sent, vocab):\n",
        "    wrong_words = []\n",
        "    sent = sent.strip().lower().split(\" \")\n",
        "    for word in sent:\n",
        "        if word not in vocab:\n",
        "            wrong_words.append(word)\n",
        "    return wrong_words"
      ]
    },
    {
      "cell_type": "code",
      "execution_count": 7,
      "metadata": {
        "colab": {
          "base_uri": "https://localhost:8080/"
        },
        "execution": {
          "iopub.execute_input": "2022-08-08T11:12:00.899022Z",
          "iopub.status.busy": "2022-08-08T11:12:00.898355Z",
          "iopub.status.idle": "2022-08-08T11:12:00.905016Z",
          "shell.execute_reply": "2022-08-08T11:12:00.903980Z",
          "shell.execute_reply.started": "2022-08-08T11:12:00.898984Z"
        },
        "id": "WfVpan8zSAy-",
        "outputId": "f31de9a1-6809-464a-db74-a6f891b7fcc6",
        "trusted": true
      },
      "outputs": [
        {
          "data": {
            "text/plain": [
              "['goinng']"
            ]
          },
          "execution_count": 7,
          "metadata": {},
          "output_type": "execute_result"
        }
      ],
      "source": [
        "# Example for checking above function printing list of wrong words\n",
        "find_wrong_word('he is goinng home', vocab)"
      ]
    },
    {
      "cell_type": "markdown",
      "metadata": {
        "id": "o0cmECeCvfAK"
      },
      "source": [
        "***From above we can see that its finding the wrong word in sentence \n",
        "'goinng' is the wrong word***\n",
        "\n"
      ]
    },
    {
      "cell_type": "markdown",
      "metadata": {
        "id": "g3j4MfALSAy-"
      },
      "source": [
        "### Architecture Part 2 : (Word Suggestion Mechanism)\n",
        "\n",
        "We'll impliment separate functions of each of the steps (deletion, insertion, switching, replace) and then combine them to edit one or two letter(these both are function below) of the original word."
      ]
    },
    {
      "cell_type": "markdown",
      "metadata": {
        "id": "X5J7JZDxSAy_"
      },
      "source": [
        "#### 1.deletion"
      ]
    },
    {
      "cell_type": "code",
      "execution_count": 8,
      "metadata": {
        "execution": {
          "iopub.execute_input": "2022-08-08T11:12:01.016020Z",
          "iopub.status.busy": "2022-08-08T11:12:01.015215Z",
          "iopub.status.idle": "2022-08-08T11:12:01.023088Z",
          "shell.execute_reply": "2022-08-08T11:12:01.021918Z",
          "shell.execute_reply.started": "2022-08-08T11:12:01.015975Z"
        },
        "id": "fjHn8JDhSAy_",
        "trusted": true
      },
      "outputs": [],
      "source": [
        "# Making different different words my deleting letters from the word\n",
        "def delete_letter(word, verbose=False):\n",
        "    '''\n",
        "    Input:\n",
        "        word: the string/word for which you will generate all possible words \n",
        "                in the vocabulary which have 1 missing character\n",
        "    Output:\n",
        "        delete_l: a list of all possible strings obtained by deleting 1 character from word\n",
        "    '''\n",
        "    \n",
        "    delete_l = []\n",
        "    split_l = []\n",
        "    split_l = [(word[:i], word[i:]) for i in range(len(word))]\n",
        "    delete_l = [s[0]+s[1][1:] for s in split_l]\n",
        "    if verbose: print(f\"input word : {word} \\nsplit_l = {split_l}, \\ndelete_l = {delete_l}\")\n",
        "\n",
        "    return delete_l"
      ]
    },
    {
      "cell_type": "code",
      "execution_count": 9,
      "metadata": {
        "colab": {
          "base_uri": "https://localhost:8080/"
        },
        "execution": {
          "iopub.execute_input": "2022-08-08T11:12:01.212215Z",
          "iopub.status.busy": "2022-08-08T11:12:01.211240Z",
          "iopub.status.idle": "2022-08-08T11:12:01.218299Z",
          "shell.execute_reply": "2022-08-08T11:12:01.217239Z",
          "shell.execute_reply.started": "2022-08-08T11:12:01.212172Z"
        },
        "id": "eDIcHGCfSAy_",
        "outputId": "ca3ce40b-1176-4b37-cf73-ab978d65b045",
        "trusted": true
      },
      "outputs": [
        {
          "name": "stdout",
          "output_type": "stream",
          "text": [
            "input word : cans \n",
            "split_l = [('', 'cans'), ('c', 'ans'), ('ca', 'ns'), ('can', 's')], \n",
            "delete_l = ['ans', 'cns', 'cas', 'can']\n"
          ]
        }
      ],
      "source": [
        "# Example for checking above function\n",
        "delete_word_l = delete_letter(word=\"cans\",\n",
        "                        verbose=True)"
      ]
    },
    {
      "cell_type": "markdown",
      "metadata": {
        "id": "rMByBd-NSAy_"
      },
      "source": [
        "#### 2.Switching"
      ]
    },
    {
      "cell_type": "code",
      "execution_count": 10,
      "metadata": {
        "execution": {
          "iopub.execute_input": "2022-08-08T11:12:01.370452Z",
          "iopub.status.busy": "2022-08-08T11:12:01.369808Z",
          "iopub.status.idle": "2022-08-08T11:12:01.378666Z",
          "shell.execute_reply": "2022-08-08T11:12:01.377463Z",
          "shell.execute_reply.started": "2022-08-08T11:12:01.370419Z"
        },
        "id": "s9k0xb7BSAy_",
        "trusted": true
      },
      "outputs": [],
      "source": [
        "# Making different different words by switching letters of the word\n",
        "def switch_letter(word, verbose=False):\n",
        "    '''\n",
        "    Input:\n",
        "        word: input string\n",
        "     Output:\n",
        "        switches: a list of all possible strings with one adjacent charater switched\n",
        "    ''' \n",
        "    \n",
        "    switch_l = []\n",
        "    split_l = []\n",
        "    split_l = [(word[:i], word[i:]) for i in range(len(word))]\n",
        "    for s in split_l:\n",
        "        if len(s[1])>2:\n",
        "            temp = s[0] + s[1][1] + s[1][0] + s[1][2:]\n",
        "        elif len(s[1]) == 2:\n",
        "            temp = s[0] + s[1][1] + s[1][0]\n",
        "        elif len(s[1]) == 1:\n",
        "            continue\n",
        "        switch_l.append(temp)\n",
        "    \n",
        "    if verbose: print(f\"Input word = {word} \\nsplit_l = {split_l} \\nswitch_l = {switch_l}\") \n",
        "\n",
        "    return switch_l"
      ]
    },
    {
      "cell_type": "code",
      "execution_count": 11,
      "metadata": {
        "colab": {
          "base_uri": "https://localhost:8080/"
        },
        "execution": {
          "iopub.execute_input": "2022-08-08T11:12:01.563514Z",
          "iopub.status.busy": "2022-08-08T11:12:01.563089Z",
          "iopub.status.idle": "2022-08-08T11:12:01.570178Z",
          "shell.execute_reply": "2022-08-08T11:12:01.569306Z",
          "shell.execute_reply.started": "2022-08-08T11:12:01.563478Z"
        },
        "id": "LsJuDl0ZSAy_",
        "outputId": "907c0b91-dbfa-4c64-e07b-81859b3a504e",
        "trusted": true
      },
      "outputs": [
        {
          "name": "stdout",
          "output_type": "stream",
          "text": [
            "Input word = eta \n",
            "split_l = [('', 'eta'), ('e', 'ta'), ('et', 'a')] \n",
            "switch_l = ['tea', 'eat']\n"
          ]
        }
      ],
      "source": [
        "# Example for checking above function\n",
        "switch_word_l = switch_letter(word=\"eta\",\n",
        "                         verbose=True)"
      ]
    },
    {
      "cell_type": "code",
      "execution_count": 12,
      "metadata": {
        "colab": {
          "base_uri": "https://localhost:8080/"
        },
        "execution": {
          "iopub.execute_input": "2022-08-08T11:12:01.678511Z",
          "iopub.status.busy": "2022-08-08T11:12:01.677510Z",
          "iopub.status.idle": "2022-08-08T11:12:01.683534Z",
          "shell.execute_reply": "2022-08-08T11:12:01.682661Z",
          "shell.execute_reply.started": "2022-08-08T11:12:01.678467Z"
        },
        "id": "D6lLyHy_SAy_",
        "outputId": "8df7679e-2185-461c-c48f-cd411abf542a",
        "trusted": true
      },
      "outputs": [
        {
          "name": "stdout",
          "output_type": "stream",
          "text": [
            "Number of outputs of switch_letter('at') is 3\n"
          ]
        }
      ],
      "source": [
        "print(f\"Number of outputs of switch_letter('at') is {len(switch_letter('fate'))}\")"
      ]
    },
    {
      "cell_type": "markdown",
      "metadata": {
        "id": "zI6ZQn4PSAzA"
      },
      "source": [
        "#### 3.replace"
      ]
    },
    {
      "cell_type": "code",
      "execution_count": 13,
      "metadata": {
        "execution": {
          "iopub.execute_input": "2022-08-08T11:12:01.803132Z",
          "iopub.status.busy": "2022-08-08T11:12:01.802465Z",
          "iopub.status.idle": "2022-08-08T11:12:01.817385Z",
          "shell.execute_reply": "2022-08-08T11:12:01.815807Z",
          "shell.execute_reply.started": "2022-08-08T11:12:01.803097Z"
        },
        "id": "2qbnQhztSAzA",
        "trusted": true
      },
      "outputs": [],
      "source": [
        "# Making different different words by replacing letters in the word\n",
        "def replace_letter(word, verbose=False):\n",
        "    '''\n",
        "    Input:\n",
        "        word: the input string/word \n",
        "    Output:\n",
        "        replaces: a list of all possible strings where we replaced one letter from the original word. \n",
        "    ''' \n",
        "    \n",
        "    letters = 'abcdefghijklmnopqrstuvwxyz'\n",
        "    replace_l = []\n",
        "    split_l = []\n",
        "    split_l = [(word[:i], word[i:]) for i in range(len(word))]\n",
        "    for s in split_l:\n",
        "        if len(s[1]) == 1:\n",
        "            for l in letters:\n",
        "                if l != s[1][0]:\n",
        "                    temp = l\n",
        "                    replace_l.append(s[0]+temp)\n",
        "        elif len(s) > 1:\n",
        "            for l in letters:\n",
        "                if l != s[1][0]:\n",
        "                    temp = l + s[1][1:]\n",
        "                    replace_l.append(s[0]+temp)\n",
        "        \n",
        "    replace_set = set(replace_l)\n",
        "    \n",
        "    # turn the set back into a list and sort it, for easier viewing\n",
        "    replace_l = sorted(list(replace_set))\n",
        "    \n",
        "    if verbose: print(f\"Input word = {word} \\nsplit_l = {split_l} \\nreplace_l {replace_l}\")   \n",
        "    \n",
        "    return replace_l"
      ]
    },
    {
      "cell_type": "code",
      "execution_count": 14,
      "metadata": {
        "colab": {
          "base_uri": "https://localhost:8080/"
        },
        "execution": {
          "iopub.execute_input": "2022-08-08T11:12:01.944603Z",
          "iopub.status.busy": "2022-08-08T11:12:01.942137Z",
          "iopub.status.idle": "2022-08-08T11:12:01.949443Z",
          "shell.execute_reply": "2022-08-08T11:12:01.948502Z",
          "shell.execute_reply.started": "2022-08-08T11:12:01.944560Z"
        },
        "id": "s0NzbvaySAzA",
        "outputId": "7a3ab6a8-2cc1-40e9-8fe4-1ce424f2da0a",
        "trusted": true
      },
      "outputs": [
        {
          "name": "stdout",
          "output_type": "stream",
          "text": [
            "Input word = can \n",
            "split_l = [('', 'can'), ('c', 'an'), ('ca', 'n')] \n",
            "replace_l ['aan', 'ban', 'caa', 'cab', 'cac', 'cad', 'cae', 'caf', 'cag', 'cah', 'cai', 'caj', 'cak', 'cal', 'cam', 'cao', 'cap', 'caq', 'car', 'cas', 'cat', 'cau', 'cav', 'caw', 'cax', 'cay', 'caz', 'cbn', 'ccn', 'cdn', 'cen', 'cfn', 'cgn', 'chn', 'cin', 'cjn', 'ckn', 'cln', 'cmn', 'cnn', 'con', 'cpn', 'cqn', 'crn', 'csn', 'ctn', 'cun', 'cvn', 'cwn', 'cxn', 'cyn', 'czn', 'dan', 'ean', 'fan', 'gan', 'han', 'ian', 'jan', 'kan', 'lan', 'man', 'nan', 'oan', 'pan', 'qan', 'ran', 'san', 'tan', 'uan', 'van', 'wan', 'xan', 'yan', 'zan']\n"
          ]
        }
      ],
      "source": [
        "# Example for checking on function\n",
        "replace_l = replace_letter(word='can',\n",
        "                              verbose=True)"
      ]
    },
    {
      "cell_type": "markdown",
      "metadata": {
        "id": "jrX1yJrzSAzA"
      },
      "source": [
        "#### 4.insert"
      ]
    },
    {
      "cell_type": "code",
      "execution_count": 15,
      "metadata": {
        "execution": {
          "iopub.execute_input": "2022-08-08T11:12:02.075999Z",
          "iopub.status.busy": "2022-08-08T11:12:02.075573Z",
          "iopub.status.idle": "2022-08-08T11:12:02.083284Z",
          "shell.execute_reply": "2022-08-08T11:12:02.082169Z",
          "shell.execute_reply.started": "2022-08-08T11:12:02.075963Z"
        },
        "id": "9mjrXf05SAzA",
        "trusted": true
      },
      "outputs": [],
      "source": [
        "# # Making different different words by inserting letters in the word\n",
        "def insert_letter(word, verbose=False):\n",
        "    '''\n",
        "    Input:\n",
        "        word: the input string/word \n",
        "    Output:\n",
        "        inserts: a set of all possible strings with one new letter inserted at every offset\n",
        "    ''' \n",
        "    letters = 'abcdefghijklmnopqrstuvwxyz'\n",
        "    insert_l = []\n",
        "    split_l = []\n",
        "    split_l = [(word[:i], word[i:]) for i in range(len(word)+1)]\n",
        "    for s in split_l:\n",
        "        for l in letters:\n",
        "            insert_l.append(s[0]+l+s[1])\n",
        "\n",
        "    if verbose: print(f\"Input word {word} \\nsplit_l = {split_l} \\ninsert_l = {insert_l}\")\n",
        "    \n",
        "    return insert_l"
      ]
    },
    {
      "cell_type": "code",
      "execution_count": 16,
      "metadata": {
        "colab": {
          "base_uri": "https://localhost:8080/"
        },
        "execution": {
          "iopub.execute_input": "2022-08-08T11:12:02.257511Z",
          "iopub.status.busy": "2022-08-08T11:12:02.256748Z",
          "iopub.status.idle": "2022-08-08T11:12:02.263524Z",
          "shell.execute_reply": "2022-08-08T11:12:02.262245Z",
          "shell.execute_reply.started": "2022-08-08T11:12:02.257473Z"
        },
        "id": "jfUWCRXgSAzA",
        "outputId": "3d281261-6f2f-414e-9440-0ff33118684b",
        "trusted": true
      },
      "outputs": [
        {
          "name": "stdout",
          "output_type": "stream",
          "text": [
            "Input word at \n",
            "split_l = [('', 'at'), ('a', 't'), ('at', '')] \n",
            "insert_l = ['aat', 'bat', 'cat', 'dat', 'eat', 'fat', 'gat', 'hat', 'iat', 'jat', 'kat', 'lat', 'mat', 'nat', 'oat', 'pat', 'qat', 'rat', 'sat', 'tat', 'uat', 'vat', 'wat', 'xat', 'yat', 'zat', 'aat', 'abt', 'act', 'adt', 'aet', 'aft', 'agt', 'aht', 'ait', 'ajt', 'akt', 'alt', 'amt', 'ant', 'aot', 'apt', 'aqt', 'art', 'ast', 'att', 'aut', 'avt', 'awt', 'axt', 'ayt', 'azt', 'ata', 'atb', 'atc', 'atd', 'ate', 'atf', 'atg', 'ath', 'ati', 'atj', 'atk', 'atl', 'atm', 'atn', 'ato', 'atp', 'atq', 'atr', 'ats', 'att', 'atu', 'atv', 'atw', 'atx', 'aty', 'atz']\n",
            "Number of strings output by insert_letter('at') is 78\n"
          ]
        }
      ],
      "source": [
        "# Example for checking on function\n",
        "insert_l = insert_letter('at', True)\n",
        "print(f\"Number of strings output by insert_letter('at') is {len(insert_l)}\")"
      ]
    },
    {
      "cell_type": "markdown",
      "metadata": {
        "id": "3I57x5ASSAzA"
      },
      "source": [
        "#### Let's combine these individual steps and impliment two function for editing one or two characters from a word."
      ]
    },
    {
      "cell_type": "code",
      "execution_count": 17,
      "metadata": {
        "execution": {
          "iopub.execute_input": "2022-08-08T11:12:02.454573Z",
          "iopub.status.busy": "2022-08-08T11:12:02.453460Z",
          "iopub.status.idle": "2022-08-08T11:12:02.461028Z",
          "shell.execute_reply": "2022-08-08T11:12:02.459879Z",
          "shell.execute_reply.started": "2022-08-08T11:12:02.454529Z"
        },
        "id": "-nDhNareSAzA",
        "trusted": true
      },
      "outputs": [],
      "source": [
        "# Combining all steps \n",
        "def edit_one_letter(word, allow_switches = True):\n",
        "    \"\"\"\n",
        "    Input:\n",
        "        word: the string/word for which we will generate all possible wordsthat are one edit away.\n",
        "    Output:\n",
        "        edit_one_set: a set of words with one possible edit. Please return a set. and not a list.\n",
        "    \"\"\"\n",
        "    \n",
        "    edit_one_set = set()\n",
        "    insert_l = insert_letter(word)\n",
        "    delete_l = delete_letter(word)\n",
        "    replace_l = replace_letter(word)\n",
        "    switch_l = switch_letter(word)\n",
        "    \n",
        "    if allow_switches:\n",
        "        ans = insert_l + delete_l + replace_l + switch_l\n",
        "    else:\n",
        "        ans = insert_l + delete_l + replace_l\n",
        "        \n",
        "    edit_one_set = set(ans)\n",
        "\n",
        "    return edit_one_set"
      ]
    },
    {
      "cell_type": "code",
      "execution_count": 18,
      "metadata": {
        "colab": {
          "base_uri": "https://localhost:8080/"
        },
        "execution": {
          "iopub.execute_input": "2022-08-08T11:12:02.611806Z",
          "iopub.status.busy": "2022-08-08T11:12:02.611384Z",
          "iopub.status.idle": "2022-08-08T11:12:02.618548Z",
          "shell.execute_reply": "2022-08-08T11:12:02.617446Z",
          "shell.execute_reply.started": "2022-08-08T11:12:02.611773Z"
        },
        "id": "q2CX2e-jSAzB",
        "outputId": "4aefe859-3360-4444-f366-ee0bb7664391",
        "trusted": true
      },
      "outputs": [
        {
          "name": "stdout",
          "output_type": "stream",
          "text": [
            "input word : at \n",
            "edit_one_l \n",
            "['a', 'aa', 'aat', 'ab', 'abt', 'ac', 'act', 'ad', 'adt', 'ae', 'aet', 'af', 'aft', 'ag', 'agt', 'ah', 'aht', 'ai', 'ait', 'aj', 'ajt', 'ak', 'akt', 'al', 'alt', 'am', 'amt', 'an', 'ant', 'ao', 'aot', 'ap', 'apt', 'aq', 'aqt', 'ar', 'art', 'as', 'ast', 'ata', 'atb', 'atc', 'atd', 'ate', 'atf', 'atg', 'ath', 'ati', 'atj', 'atk', 'atl', 'atm', 'atn', 'ato', 'atp', 'atq', 'atr', 'ats', 'att', 'atu', 'atv', 'atw', 'atx', 'aty', 'atz', 'au', 'aut', 'av', 'avt', 'aw', 'awt', 'ax', 'axt', 'ay', 'ayt', 'az', 'azt', 'bat', 'bt', 'cat', 'ct', 'dat', 'dt', 'eat', 'et', 'fat', 'ft', 'gat', 'gt', 'hat', 'ht', 'iat', 'it', 'jat', 'jt', 'kat', 'kt', 'lat', 'lt', 'mat', 'mt', 'nat', 'nt', 'oat', 'ot', 'pat', 'pt', 'qat', 'qt', 'rat', 'rt', 'sat', 'st', 't', 'ta', 'tat', 'tt', 'uat', 'ut', 'vat', 'vt', 'wat', 'wt', 'xat', 'xt', 'yat', 'yt', 'zat', 'zt']\n",
            "\n",
            "Number of outputs from edit_one_letter('at') is 129\n"
          ]
        }
      ],
      "source": [
        "tmp_word = \"at\"\n",
        "tmp_edit_one_set = edit_one_letter(tmp_word)\n",
        "# turn this into a list to sort it, in order to view it\n",
        "tmp_edit_one_l = sorted(list(tmp_edit_one_set))\n",
        "\n",
        "print(f\"input word : {tmp_word} \\nedit_one_l \\n{tmp_edit_one_l}\\n\")\n",
        "#print(f\"The type of the returned object should be a set {type(tmp_edit_one_set)}\")\n",
        "print(f\"Number of outputs from edit_one_letter('at') is {len(edit_one_letter('at'))}\")"
      ]
    },
    {
      "cell_type": "code",
      "execution_count": 19,
      "metadata": {
        "execution": {
          "iopub.execute_input": "2022-08-08T11:12:02.709942Z",
          "iopub.status.busy": "2022-08-08T11:12:02.709121Z",
          "iopub.status.idle": "2022-08-08T11:12:02.715911Z",
          "shell.execute_reply": "2022-08-08T11:12:02.714842Z",
          "shell.execute_reply.started": "2022-08-08T11:12:02.709898Z"
        },
        "id": "8PpVnHIfSAzB",
        "trusted": true
      },
      "outputs": [],
      "source": [
        "# Making two letter edit function\n",
        "def edit_two_letters(word, allow_switches = True):\n",
        "    '''\n",
        "    Input:\n",
        "        word: the input string/word \n",
        "    Output:\n",
        "        edit_two_set: a set of strings with all possible two edits\n",
        "    '''\n",
        "    \n",
        "    edit_two_set = set()\n",
        "    one_edit = edit_one_letter(word)\n",
        "    ans = []\n",
        "    for w in one_edit:\n",
        "        ans.append(w)\n",
        "        ans.extend(edit_one_letter(w))\n",
        "        \n",
        "    edit_two_set = set(ans)\n",
        "    \n",
        "    return edit_two_set"
      ]
    },
    {
      "cell_type": "code",
      "execution_count": 20,
      "metadata": {
        "colab": {
          "base_uri": "https://localhost:8080/"
        },
        "execution": {
          "iopub.execute_input": "2022-08-08T11:12:02.819666Z",
          "iopub.status.busy": "2022-08-08T11:12:02.819284Z",
          "iopub.status.idle": "2022-08-08T11:12:02.848980Z",
          "shell.execute_reply": "2022-08-08T11:12:02.848048Z",
          "shell.execute_reply.started": "2022-08-08T11:12:02.819635Z"
        },
        "id": "PDZBC0EbSAzB",
        "outputId": "a7f96bfb-6ba2-444b-d221-c6ae76a85083",
        "trusted": true
      },
      "outputs": [
        {
          "name": "stdout",
          "output_type": "stream",
          "text": [
            "Number of strings with edit distance of two: 2654\n",
            "First 10 strings ['', 'a', 'aa', 'aaa', 'aab', 'aac', 'aad', 'aae', 'aaf', 'aag']\n",
            "Last 10 strings ['zv', 'zva', 'zw', 'zwa', 'zx', 'zxa', 'zy', 'zya', 'zz', 'zza']\n",
            "The data type of the returned object should be a set <class 'set'>\n",
            "Number of strings that are 2 edit distances from 'at' is 7154\n"
          ]
        }
      ],
      "source": [
        "tmp_edit_two_set = edit_two_letters(\"a\")\n",
        "tmp_edit_two_l = sorted(list(tmp_edit_two_set))\n",
        "print(f\"Number of strings with edit distance of two: {len(tmp_edit_two_l)}\")\n",
        "print(f\"First 10 strings {tmp_edit_two_l[:10]}\")\n",
        "print(f\"Last 10 strings {tmp_edit_two_l[-10:]}\")\n",
        "print(f\"The data type of the returned object should be a set {type(tmp_edit_two_set)}\")\n",
        "print(f\"Number of strings that are 2 edit distances from 'at' is {len(edit_two_letters('at'))}\")"
      ]
    },
    {
      "cell_type": "markdown",
      "metadata": {
        "id": "hW4fW49ESAzB"
      },
      "source": [
        "### Architecture Part 3 : (Probability Distribution)\n",
        "\n",
        "We'll calculate the frequecies of each word using the corpus that we have. Then we'll divide each frequencies by word count to find the probabilities.\n",
        "\n",
        "                            count(word)\n",
        "    probability(word) =  ____________________\n",
        "                       \n",
        "                         total no. of words\n"
      ]
    },
    {
      "cell_type": "code",
      "execution_count": 21,
      "metadata": {
        "execution": {
          "iopub.execute_input": "2022-08-08T11:12:02.978260Z",
          "iopub.status.busy": "2022-08-08T11:12:02.977632Z",
          "iopub.status.idle": "2022-08-08T11:12:02.983633Z",
          "shell.execute_reply": "2022-08-08T11:12:02.982559Z",
          "shell.execute_reply.started": "2022-08-08T11:12:02.978226Z"
        },
        "id": "k0Xa7kKJSAzB",
        "trusted": true
      },
      "outputs": [],
      "source": [
        "# Finding frequencies of all the words making a dictionary\n",
        "def get_count(word_l):\n",
        "    '''\n",
        "    Input:\n",
        "        word_l: a set of words representing the corpus. \n",
        "    Output:\n",
        "        word_count_dict: The wordcount dictionary where key is the word and value is its frequency.\n",
        "    '''\n",
        "    word_count_dict = {}  \n",
        "    word_count_dict = Counter(word_l)\n",
        "    return word_count_dict"
      ]
    },
    {
      "cell_type": "code",
      "execution_count": 22,
      "metadata": {
        "colab": {
          "base_uri": "https://localhost:8080/"
        },
        "execution": {
          "iopub.execute_input": "2022-08-08T11:12:03.119291Z",
          "iopub.status.busy": "2022-08-08T11:12:03.118450Z",
          "iopub.status.idle": "2022-08-08T11:12:03.134665Z",
          "shell.execute_reply": "2022-08-08T11:12:03.133811Z",
          "shell.execute_reply.started": "2022-08-08T11:12:03.119245Z"
        },
        "id": "tc5ZUln7SAzB",
        "outputId": "9ad22ebd-9985-4078-e901-92af18bd8cdc",
        "trusted": true
      },
      "outputs": [
        {
          "name": "stdout",
          "output_type": "stream",
          "text": [
            "There are 58110 key values pairs\n",
            "The count for the word 'thee' is 1\n"
          ]
        }
      ],
      "source": [
        "# Example for  checking on the above function\n",
        "word_count_dict = get_count(word_l)\n",
        "print(f\"There are {len(word_count_dict)} key values pairs\")\n",
        "print(f\"The count for the word 'thee' is {word_count_dict.get('thee',0)}\")"
      ]
    },
    {
      "cell_type": "code",
      "execution_count": 23,
      "metadata": {
        "execution": {
          "iopub.execute_input": "2022-08-08T11:12:03.288184Z",
          "iopub.status.busy": "2022-08-08T11:12:03.287432Z",
          "iopub.status.idle": "2022-08-08T11:12:03.295099Z",
          "shell.execute_reply": "2022-08-08T11:12:03.294147Z",
          "shell.execute_reply.started": "2022-08-08T11:12:03.288140Z"
        },
        "id": "THNMlxUmSAzB",
        "trusted": true
      },
      "outputs": [],
      "source": [
        "# Getting the probability of each word in corpus\n",
        "def get_probs(word_count_dict):\n",
        "    '''\n",
        "    Input:\n",
        "        word_count_dict: The wordcount dictionary where key is the word and value is its frequency.\n",
        "    Output:\n",
        "        probs: A dictionary where keys are the words and the values are the probability that a word will occur. \n",
        "    '''\n",
        "    probs = {} \n",
        "    total = 1\n",
        "    for word in word_count_dict.keys():\n",
        "        total = total + word_count_dict[word]\n",
        "        \n",
        "    for word in word_count_dict.keys():\n",
        "        probs[word] = word_count_dict[word]/total\n",
        "    return probs"
      ]
    },
    {
      "cell_type": "code",
      "execution_count": 24,
      "metadata": {
        "colab": {
          "base_uri": "https://localhost:8080/"
        },
        "execution": {
          "iopub.execute_input": "2022-08-08T11:12:03.453431Z",
          "iopub.status.busy": "2022-08-08T11:12:03.452752Z",
          "iopub.status.idle": "2022-08-08T11:12:03.497721Z",
          "shell.execute_reply": "2022-08-08T11:12:03.496917Z",
          "shell.execute_reply.started": "2022-08-08T11:12:03.453396Z"
        },
        "id": "hNvlY7k3SAzC",
        "outputId": "d48b1bad-eeab-4cf2-f011-287f22aeecfe",
        "trusted": true
      },
      "outputs": [
        {
          "name": "stdout",
          "output_type": "stream",
          "text": [
            "Length of probs is 58110\n",
            "P('you') is 0.0000\n"
          ]
        }
      ],
      "source": [
        "# Example for checking on above function\n",
        "probs = get_probs(word_count_dict)\n",
        "print(f\"Length of probs is {len(probs)}\")\n",
        "print(f\"P('you') is {probs['you']:.4f}\")"
      ]
    },
    {
      "cell_type": "code",
      "execution_count": 25,
      "metadata": {
        "colab": {
          "base_uri": "https://localhost:8080/",
          "height": 0
        },
        "execution": {
          "iopub.execute_input": "2022-08-08T11:12:03.602131Z",
          "iopub.status.busy": "2022-08-08T11:12:03.601530Z",
          "iopub.status.idle": "2022-08-08T11:12:03.639284Z",
          "shell.execute_reply": "2022-08-08T11:12:03.638096Z",
          "shell.execute_reply.started": "2022-08-08T11:12:03.602097Z"
        },
        "id": "g_W1VfacSAzC",
        "outputId": "9267994c-df21-435a-c50d-097cac920947",
        "trusted": true
      },
      "outputs": [
        {
          "data": {
            "text/html": [
              "<div>\n",
              "<style scoped>\n",
              "    .dataframe tbody tr th:only-of-type {\n",
              "        vertical-align: middle;\n",
              "    }\n",
              "\n",
              "    .dataframe tbody tr th {\n",
              "        vertical-align: top;\n",
              "    }\n",
              "\n",
              "    .dataframe thead th {\n",
              "        text-align: right;\n",
              "    }\n",
              "</style>\n",
              "<table border=\"1\" class=\"dataframe\">\n",
              "  <thead>\n",
              "    <tr style=\"text-align: right;\">\n",
              "      <th></th>\n",
              "      <th>word</th>\n",
              "      <th>probability</th>\n",
              "    </tr>\n",
              "  </thead>\n",
              "  <tbody>\n",
              "    <tr>\n",
              "      <th>12661</th>\n",
              "      <td>declassified</td>\n",
              "      <td>0.000017</td>\n",
              "    </tr>\n",
              "    <tr>\n",
              "      <th>37049</th>\n",
              "      <td>pharmacy</td>\n",
              "      <td>0.000017</td>\n",
              "    </tr>\n",
              "    <tr>\n",
              "      <th>7167</th>\n",
              "      <td>carburettor</td>\n",
              "      <td>0.000017</td>\n",
              "    </tr>\n",
              "    <tr>\n",
              "      <th>48085</th>\n",
              "      <td>spirals</td>\n",
              "      <td>0.000017</td>\n",
              "    </tr>\n",
              "    <tr>\n",
              "      <th>7939</th>\n",
              "      <td>charting</td>\n",
              "      <td>0.000017</td>\n",
              "    </tr>\n",
              "  </tbody>\n",
              "</table>\n",
              "</div>"
            ],
            "text/plain": [
              "               word  probability\n",
              "12661  declassified     0.000017\n",
              "37049      pharmacy     0.000017\n",
              "7167    carburettor     0.000017\n",
              "48085       spirals     0.000017\n",
              "7939       charting     0.000017"
            ]
          },
          "execution_count": 25,
          "metadata": {},
          "output_type": "execute_result"
        }
      ],
      "source": [
        "# Lets Look at the probability distribution of a sample\n",
        "prob_df = pd.DataFrame({'word':probs.keys(), 'probability':probs.values()}).sort_values(by='probability', ascending=False)\n",
        "prob_df.sample(5)"
      ]
    },
    {
      "cell_type": "code",
      "execution_count": 26,
      "metadata": {
        "colab": {
          "base_uri": "https://localhost:8080/",
          "height": 0
        },
        "execution": {
          "iopub.execute_input": "2022-08-08T11:12:03.809073Z",
          "iopub.status.busy": "2022-08-08T11:12:03.808292Z",
          "iopub.status.idle": "2022-08-08T11:12:04.021019Z",
          "shell.execute_reply": "2022-08-08T11:12:04.019757Z",
          "shell.execute_reply.started": "2022-08-08T11:12:03.809036Z"
        },
        "id": "0Mf9IBMRSAzC",
        "outputId": "1ca41186-a287-46ab-d11c-213224569669",
        "trusted": true
      },
      "outputs": [
        {
          "data": {
            "text/plain": [
              "<AxesSubplot:xlabel='word'>"
            ]
          },
          "execution_count": 26,
          "metadata": {},
          "output_type": "execute_result"
        },
        {
          "data": {
            "image/png": "[encoded data removed]",
            "text/plain": [
              "<Figure size 432x288 with 1 Axes>"
            ]
          },
          "metadata": {
            "needs_background": "light"
          },
          "output_type": "display_data"
        }
      ],
      "source": [
        "# Bar plot  showing probability of some words from vocab\n",
        "prob_df.head().plot.bar(x='word', y='probability')"
      ]
    },
    {
      "cell_type": "markdown",
      "metadata": {
        "id": "hXHwh1t3SAzC"
      },
      "source": [
        "### Architecture Part 4 : (Replace Misspells with correction)"
      ]
    },
    {
      "cell_type": "code",
      "execution_count": 27,
      "metadata": {
        "execution": {
          "iopub.execute_input": "2022-08-08T11:12:04.023866Z",
          "iopub.status.busy": "2022-08-08T11:12:04.023117Z",
          "iopub.status.idle": "2022-08-08T11:12:04.032731Z",
          "shell.execute_reply": "2022-08-08T11:12:04.031665Z",
          "shell.execute_reply.started": "2022-08-08T11:12:04.023820Z"
        },
        "id": "CDsZDC8QSAzC",
        "trusted": true
      },
      "outputs": [],
      "source": [
        "def get_corrections(word, probs, vocab, n=2, verbose = False):\n",
        "    '''\n",
        "    Input: \n",
        "        word: a user entered string to check for suggestions\n",
        "        probs: a dictionary that maps each word to its probability in the corpus\n",
        "        vocab: a set containing all the vocabulary\n",
        "        n: number of possible word corrections you want returned in the dictionary\n",
        "    Output: \n",
        "        n_best: a list of tuples with the most probable n corrected words and their probabilities.\n",
        "    '''\n",
        "    \n",
        "    suggestions = []\n",
        "    n_best = []\n",
        "    \n",
        "   \n",
        "    if word in probs.keys():\n",
        "        suggestions.append(word)\n",
        "    for w in edit_one_letter(word):\n",
        "        if len(suggestions) == n:\n",
        "            break\n",
        "        if w in probs.keys():\n",
        "            suggestions.append(w)\n",
        "    for w in edit_two_letters(word):\n",
        "        if len(suggestions) == n:\n",
        "            break\n",
        "        if w in probs.keys():\n",
        "            suggestions.append(w)\n",
        "        \n",
        "    best_words = {}\n",
        "    \n",
        "    for s in suggestions:\n",
        "        best_words[s] = probs[s]\n",
        "        \n",
        "    best_words = sorted(best_words.items(), key=lambda x: x[1], reverse=True)\n",
        "    \n",
        "    n_best = best_words \n",
        "    \n",
        "    if verbose: print(\"entered word = \", word, \"\\nsuggestions = \", suggestions)\n",
        "\n",
        "    return n_best"
      ]
    },
    {
      "cell_type": "code",
      "execution_count": 28,
      "metadata": {
        "execution": {
          "iopub.execute_input": "2022-08-08T11:12:04.096840Z",
          "iopub.status.busy": "2022-08-08T11:12:04.096089Z",
          "iopub.status.idle": "2022-08-08T11:12:04.103817Z",
          "shell.execute_reply": "2022-08-08T11:12:04.102762Z",
          "shell.execute_reply.started": "2022-08-08T11:12:04.096803Z"
        },
        "id": "P6aeVlaWSAzC",
        "trusted": true
      },
      "outputs": [],
      "source": [
        "def get_correct_word(word, vocab, probs, n): \n",
        "    corrections = get_corrections(word, probs, vocab, n, verbose=False)\n",
        "#    print(corrections)\n",
        "    if len(corrections) == 0:\n",
        "        return word\n",
        "    \n",
        "    final_word = corrections[0][0]\n",
        "    final_prob = corrections[0][1]\n",
        "    for i, word_prob in enumerate(corrections):\n",
        "        #print(f\"word {i}: {word_prob[0]}, probability {word_prob[1]:.6f}\")\n",
        "        if word_prob[1] > final_prob:\n",
        "            final_word = word_prob[0]\n",
        "            final_prob = word_prob[1]\n",
        "    return final_word"
      ]
    },
    {
      "cell_type": "code",
      "execution_count": 29,
      "metadata": {
        "colab": {
          "base_uri": "https://localhost:8080/",
          "height": 0
        },
        "execution": {
          "iopub.execute_input": "2022-08-08T11:12:04.216940Z",
          "iopub.status.busy": "2022-08-08T11:12:04.216525Z",
          "iopub.status.idle": "2022-08-08T11:12:04.276463Z",
          "shell.execute_reply": "2022-08-08T11:12:04.275304Z",
          "shell.execute_reply.started": "2022-08-08T11:12:04.216906Z"
        },
        "id": "lo2UEh9qSAzC",
        "outputId": "c86a0aef-7d7a-4b22-ae78-d81e10fa7481",
        "trusted": true
      },
      "outputs": [
        {
          "data": {
            "text/plain": [
              "'and'"
            ]
          },
          "execution_count": 29,
          "metadata": {},
          "output_type": "execute_result"
        }
      ],
      "source": [
        "# Checking on above function\n",
        "get_correct_word('annd', vocab, probs, 100,)"
      ]
    },
    {
      "cell_type": "markdown",
      "metadata": {
        "id": "x3nIZWJzSAzC"
      },
      "source": [
        "#### All Done!! Let's wrap up everything!"
      ]
    },
    {
      "cell_type": "code",
      "execution_count": 30,
      "metadata": {
        "execution": {
          "iopub.execute_input": "2022-08-08T11:12:04.358567Z",
          "iopub.status.busy": "2022-08-08T11:12:04.357891Z",
          "iopub.status.idle": "2022-08-08T11:12:04.365783Z",
          "shell.execute_reply": "2022-08-08T11:12:04.364661Z",
          "shell.execute_reply.started": "2022-08-08T11:12:04.358530Z"
        },
        "id": "8zbh0N9gSAzD",
        "trusted": true
      },
      "outputs": [],
      "source": [
        "# Creating a single function for all above steps\n",
        "def autocorrect(sentence, vocab, probs):\n",
        "    print(\"Input sentence : \", sentence)\n",
        "    wrong_words = find_wrong_word(sentence, vocab)\n",
        "    print(\"Wrong words : \", wrong_words)\n",
        "    #print(wrong_words)\n",
        "    correct_words = []\n",
        "    for word in sentence.strip().lower().split(\" \"):\n",
        "        if word in wrong_words:\n",
        "            correct_word = get_correct_word(word, vocab, probs, 15)\n",
        "            #print(word, correct_word)\n",
        "            word = correct_word\n",
        "        correct_words.append(word)\n",
        "    print(\"Output Sentence : \", \" \".join(correct_words).capitalize())"
      ]
    },
    {
      "cell_type": "markdown",
      "metadata": {
        "id": "AJ3KG_v_SAzD"
      },
      "source": [
        "## Demo\n",
        "\n",
        "Let's check this system on some examples"
      ]
    },
    {
      "cell_type": "code",
      "execution_count": 31,
      "metadata": {
        "colab": {
          "base_uri": "https://localhost:8080/"
        },
        "execution": {
          "iopub.execute_input": "2022-08-08T11:12:04.546671Z",
          "iopub.status.busy": "2022-08-08T11:12:04.545799Z",
          "iopub.status.idle": "2022-08-08T11:12:04.643836Z",
          "shell.execute_reply": "2022-08-08T11:12:04.642565Z",
          "shell.execute_reply.started": "2022-08-08T11:12:04.546628Z"
        },
        "id": "IwgL9bq4SAzD",
        "outputId": "489cfa56-847e-4437-9ab0-c20e29ec1311",
        "trusted": true
      },
      "outputs": [
        {
          "name": "stdout",
          "output_type": "stream",
          "text": [
            "Input sentence :  he is goiing home\n",
            "Wrong words :  ['goiing']\n",
            "Output Sentence :  He is going home\n"
          ]
        }
      ],
      "source": [
        "autocorrect(\"he is goiing home\", vocab, probs)"
      ]
    },
    {
      "cell_type": "code",
      "execution_count": 32,
      "metadata": {
        "colab": {
          "base_uri": "https://localhost:8080/"
        },
        "execution": {
          "iopub.execute_input": "2022-08-08T11:12:04.724419Z",
          "iopub.status.busy": "2022-08-08T11:12:04.723969Z",
          "iopub.status.idle": "2022-08-08T11:12:05.027147Z",
          "shell.execute_reply": "2022-08-08T11:12:05.026002Z",
          "shell.execute_reply.started": "2022-08-08T11:12:04.724378Z"
        },
        "id": "83rAqEwkSAzD",
        "outputId": "07929ccf-7332-4c8d-8625-dd17b33b5c83",
        "trusted": true
      },
      "outputs": [
        {
          "name": "stdout",
          "output_type": "stream",
          "text": [
            "Input sentence :  honsty is the best pooliccy\n",
            "Wrong words :  ['honsty', 'pooliccy']\n",
            "Output Sentence :  Honesty is the best policy\n"
          ]
        }
      ],
      "source": [
        "autocorrect(\"honsty is the best pooliccy\", vocab, probs)"
      ]
    },
    {
      "cell_type": "code",
      "execution_count": 33,
      "metadata": {
        "colab": {
          "base_uri": "https://localhost:8080/"
        },
        "execution": {
          "iopub.execute_input": "2022-08-08T11:12:05.029558Z",
          "iopub.status.busy": "2022-08-08T11:12:05.029193Z",
          "iopub.status.idle": "2022-08-08T11:12:05.243197Z",
          "shell.execute_reply": "2022-08-08T11:12:05.242037Z",
          "shell.execute_reply.started": "2022-08-08T11:12:05.029525Z"
        },
        "id": "gaC-lF8uSAzD",
        "outputId": "7b956efd-4ebe-40d2-be2f-45c009cc2097",
        "trusted": true
      },
      "outputs": [
        {
          "name": "stdout",
          "output_type": "stream",
          "text": [
            "Input sentence :  life is a diink annd lve is a druug\n",
            "Wrong words :  ['diink', 'annd', 'lve', 'druug']\n",
            "Output Sentence :  Life is a doing and lee is a drug\n"
          ]
        }
      ],
      "source": [
        "autocorrect(\"life is a diink annd lve is a druug\", vocab, probs)"
      ]
    },
    {
      "cell_type": "code",
      "execution_count": 34,
      "metadata": {
        "colab": {
          "base_uri": "https://localhost:8080/"
        },
        "execution": {
          "iopub.execute_input": "2022-08-08T11:12:05.244848Z",
          "iopub.status.busy": "2022-08-08T11:12:05.244541Z",
          "iopub.status.idle": "2022-08-08T11:12:05.392723Z",
          "shell.execute_reply": "2022-08-08T11:12:05.391881Z",
          "shell.execute_reply.started": "2022-08-08T11:12:05.244820Z"
        },
        "id": "_oK3807wSAzD",
        "outputId": "c0558346-16ec-4726-8223-b48742a08329",
        "trusted": true
      },
      "outputs": [
        {
          "name": "stdout",
          "output_type": "stream",
          "text": [
            "Input sentence :  ffrront\n",
            "Wrong words :  ['ffrront']\n",
            "Output Sentence :  Affront\n"
          ]
        }
      ],
      "source": [
        "autocorrect(\"ffrront\", vocab, probs)"
      ]
    },
    {
      "cell_type": "markdown",
      "metadata": {
        "id": "f7TUdvgeSAzD"
      },
      "source": [
        "### We can see that it is working!\n",
        "\n",
        "This gives a overview of what auto-correct systems are and how they work.\n",
        "\n",
        "Note - This is very simplified architecture compared to what is used in reality. You can see in the last example's output isn't good. It is supposed to be (\"Life is a drink and love is a drug\")\n",
        "\n",
        "#### Drawbacks \n",
        "- It has fixed outcome. i.e. 'hime' will be converted to 'time' only not 'home' or anything else.\n",
        "- It is solely based on frequency of words in the corpus\n",
        "- Doesn't care about the contex.\n",
        "- Can't suggest something which is not in the vocabulary"
      ]
    },
    {
      "cell_type": "markdown",
      "metadata": {
        "id": "25IlVqeWSAzD"
      },
      "source": [
        "#### Improvements\n",
        "- It can be further improved by introducing bi-gram probabilities. Hence, it will get some inference from previous words.\n",
        "- The suggestions that are less distance away from the misspelled word are more likely. Hence, the system can be further improved by introducing dynamic programming based min edit distance functionality."
      ]
    },
    {
      "cell_type": "markdown",
      "metadata": {
        "id": "b7AngMp5SAzG"
      },
      "source": [
        "<hr>\n",
        "\n",
        "## Improvement  : Introducing min_edit_diatsnce functionality\n",
        "\n",
        "The idea is derived from the intution that the suggestions that are less distance away from the misspelled word are more likely. Hence, the system can be further improved by introducing dynamic programming based min edit distance functionality.\n",
        "\n",
        "So, given a string source[0..i] and a string target[0..j], we will compute all the combinations of substrings[i, j] and calculate their edit distance. To do this efficiently, we will use a table to maintain the previously computed substrings and use those to calculate larger substrings.\n",
        "\n",
        "We'll first create a matrix and update each element in the matrix as follows:"
      ]
    },
    {
      "cell_type": "markdown",
      "metadata": {
        "id": "Gzd9qk7aSAzG"
      },
      "source": [
        "$$\\text{Initialization}$$\n",
        "\n",
        "\\begin{align}\n",
        "D[0,0] &= 0 \\\\\n",
        "D[i,0] &= D[i-1,0] + del\\_cost(source[i]) \\\\\n",
        "D[0,j] &= D[0,j-1] + ins\\_cost(target[j]) \\\\\n",
        "\\end{align}"
      ]
    },
    {
      "cell_type": "markdown",
      "metadata": {
        "id": "7IB8jQbhSAzG"
      },
      "source": [
        "$$\\text{Per Cell Operations}$$\n",
        "\\begin{align}\n",
        " \\\\\n",
        "D[i,j] =min\n",
        "\\begin{cases}\n",
        "D[i-1,j] + del\\_cost\\\\\n",
        "D[i,j-1] + ins\\_cost\\\\\n",
        "D[i-1,j-1] + \\left\\{\\begin{matrix}\n",
        "rep\\_cost; & if src[i]\\neq tar[j]\\\\\n",
        "0 ; & if src[i]=tar[j]\n",
        "\\end{matrix}\\right.\n",
        "\\end{cases}\n",
        "\\end{align}\n"
      ]
    },
    {
      "cell_type": "code",
      "execution_count": 35,
      "metadata": {
        "execution": {
          "iopub.execute_input": "2022-08-08T11:12:11.446503Z",
          "iopub.status.busy": "2022-08-08T11:12:11.445827Z",
          "iopub.status.idle": "2022-08-08T11:12:11.458877Z",
          "shell.execute_reply": "2022-08-08T11:12:11.457432Z",
          "shell.execute_reply.started": "2022-08-08T11:12:11.446458Z"
        },
        "id": "M8v7HWOiSAzG",
        "trusted": true
      },
      "outputs": [],
      "source": [
        "def min_edit_distance(source, target, ins_cost = 1, del_cost = 1, rep_cost = 2):\n",
        "    '''\n",
        "    Input: \n",
        "        source: a string corresponding to the string you are starting with\n",
        "        target: a string corresponding to the string you want to end with\n",
        "        ins_cost: an integer setting the insert cost\n",
        "        del_cost: an integer setting the delete cost\n",
        "        rep_cost: an integer setting the replace cost\n",
        "    Output:\n",
        "        D: a matrix of len(source)+1 by len(target)+1 containing minimum edit distances\n",
        "        med: the minimum edit distance (med) required to convert the source string to the target\n",
        "    '''\n",
        "    \n",
        "    m = len(source) \n",
        "    n = len(target) \n",
        "    #initialize cost matrix with zeros and dimensions (m+1,n+1) \n",
        "    D = np.zeros((m+1, n+1), dtype=int) \n",
        "    \n",
        "    for row in range(1,m+1): \n",
        "        D[row,0] = D[row-1, 0] + del_cost\n",
        "        \n",
        "    for col in range(1,n+1):\n",
        "        D[0,col] = D[0, col-1] + ins_cost\n",
        "        \n",
        "    # Loop through row 1 to row m\n",
        "    for row in range(1,m+1): \n",
        "        # Loop through column 1 to column n\n",
        "        for col in range(1,n+1):\n",
        "            # Intialize r_cost to the 'replace' cost \n",
        "            r_cost = rep_cost\n",
        "            # Check to see if source character at the previous row\n",
        "            # matches the target character at the previous column, \n",
        "            if source[row-1] == target[col-1]:\n",
        "                # Update the replacement cost to 0 if source and target are the same\n",
        "                r_cost = 0\n",
        "            # Update the cost at row, col based on previous entries in the cost matrix\n",
        "            D[row,col] = D[row-1][col-1] + r_cost\n",
        "          \n",
        "    # Set the minimum edit distance with the cost found at row m, column n\n",
        "    med = D[m][n]\n",
        "    \n",
        "    return D, med"
      ]
    },
    {
      "cell_type": "code",
      "execution_count": 36,
      "metadata": {
        "id": "gGo9p2zqYIBe"
      },
      "outputs": [],
      "source": [
        "# Fuction is gonaa using min-edit-distance and return number of closestwords\n",
        "def calcDictDistance(word, numWords):  #'numWords' is used for number of nearest words\n",
        "    file = open('/content/Final_data.txt', 'r') \n",
        "    lines = file.readlines() \n",
        "    file.close()\n",
        "    dictWordDist = []\n",
        "    wordIdx = 0\n",
        "    \n",
        "    for line in lines: \n",
        "        wordDistance = min_edit_distance(word, line.strip())[1]\n",
        "        if wordDistance >= 10:\n",
        "            wordDistance = 9\n",
        "        dictWordDist.append(str(int(wordDistance)) + \"-\" + line.strip())\n",
        "        wordIdx = wordIdx + 1\n",
        "\n",
        "    closestWords = []\n",
        "    wordDetails = []\n",
        "    currWordDist = 0\n",
        "    dictWordDist.sort()\n",
        "    #print(dictWordDist)\n",
        "    for i in range(numWords):\n",
        "        currWordDist = dictWordDist[i]\n",
        "        wordDetails = currWordDist.split(\"-\")\n",
        "        closestWords.append(wordDetails[1])\n",
        "    return closestWords"
      ]
    },
    {
      "cell_type": "code",
      "execution_count": 41,
      "metadata": {
        "id": "9UdhIuYM1g1X"
      },
      "outputs": [],
      "source": [
        "def calcDictDistance(word, numWords):\n",
        "    file = open('Final_data.txt', 'r') \n",
        "    lines = file.readlines() \n",
        "    file.close()\n",
        "    dictWordDist = []\n",
        "    wordIdx = 0\n",
        "    \n",
        "    for line in lines: \n",
        "        wordDistance = min_edit_distance(word, line.strip())[1]\n",
        "        if wordDistance >= 10:\n",
        "            wordDistance = 9\n",
        "        dictWordDist.append(str(int(wordDistance)) + \"-\" + line.strip())\n",
        "        wordIdx = wordIdx + 1\n",
        "\n",
        "    closestWords = []\n",
        "    wordDetails = []\n",
        "    currWordDist = 0\n",
        "    dictWordDist.sort()\n",
        "    #print(dictWordDist)\n",
        "    for i in range(numWords):\n",
        "        currWordDist = dictWordDist[i]\n",
        "        wordDetails = currWordDist.split(\"-\")\n",
        "        closestWords.append(wordDetails[1])\n",
        "    return closestWords"
      ]
    },
    {
      "cell_type": "code",
      "execution_count": 42,
      "metadata": {
        "colab": {
          "base_uri": "https://localhost:8080/",
          "height": 287
        },
        "id": "7xG6sGRSlJWX",
        "outputId": "fda34d48-3396-4429-d1d4-87ed988a98e6"
      },
      "outputs": [
        {
          "data": {
            "text/plain": [
              "'library'"
            ]
          },
          "execution_count": 42,
          "metadata": {},
          "output_type": "execute_result"
        }
      ],
      "source": [
        "calcDictDistance('lidrary',1)[0]"
      ]
    },
    {
      "cell_type": "code",
      "execution_count": 43,
      "metadata": {
        "id": "JRBuFOTyhMnS"
      },
      "outputs": [],
      "source": [
        "# Function for finding a word is not in vocab\n",
        "def find_wrong_word(sent, vocab):   # Above we have created a vocab set\n",
        "    wrong_words = []\n",
        "    sents = sent.strip().lower().split(\" \")\n",
        "    for word in sents:\n",
        "        if word not in vocab:\n",
        "            wrong_words.append(word)\n",
        "    return wrong_words"
      ]
    },
    {
      "cell_type": "code",
      "execution_count": 44,
      "metadata": {
        "id": "v0SuxNQkhkf7"
      },
      "outputs": [],
      "source": [
        "# Function combined everything like min-edit distance , finding wrong words\n",
        "def autocorrect_min_edit(sentence,vocab):\n",
        "\n",
        "  wrong_words=find_wrong_word(sentence,vocab)\n",
        "  corrected_words=[]\n",
        "  for word in wrong_words:\n",
        "    corrected_words.append(calcDictDistance(word,1)[0])\n",
        "\n",
        "  for i in range(len(corrected_words)):\n",
        "    sentence=sentence.replace(wrong_words[i],corrected_words[i])\n",
        "  return sentence\n"
      ]
    },
    {
      "cell_type": "markdown",
      "metadata": {
        "id": "Zoy_OXDvSAzH"
      },
      "source": [
        "### Demo"
      ]
    },
    {
      "cell_type": "code",
      "execution_count": 45,
      "metadata": {
        "execution": {
          "iopub.execute_input": "2022-08-08T11:12:11.670961Z",
          "iopub.status.busy": "2022-08-08T11:12:11.670595Z",
          "iopub.status.idle": "2022-08-08T11:12:11.853036Z",
          "shell.execute_reply": "2022-08-08T11:12:11.851864Z",
          "shell.execute_reply.started": "2022-08-08T11:12:11.670928Z"
        },
        "id": "h44H0oCjSAzH",
        "trusted": true
      },
      "outputs": [
        {
          "data": {
            "text/plain": [
              "'I have access to the library'"
            ]
          },
          "execution_count": 45,
          "metadata": {},
          "output_type": "execute_result"
        }
      ],
      "source": [
        "autocorrect_min_edit('I have access to the lidrary', vocab)"
      ]
    },
    {
      "cell_type": "code",
      "execution_count": 46,
      "metadata": {
        "execution": {
          "iopub.execute_input": "2022-08-08T11:12:13.552161Z",
          "iopub.status.busy": "2022-08-08T11:12:13.551276Z",
          "iopub.status.idle": "2022-08-08T11:12:13.558692Z",
          "shell.execute_reply": "2022-08-08T11:12:13.557469Z",
          "shell.execute_reply.started": "2022-08-08T11:12:13.552114Z"
        },
        "id": "9Z8-dXOjSAzH",
        "trusted": true
      },
      "outputs": [
        {
          "data": {
            "text/plain": [
              "'he planed a game'"
            ]
          },
          "execution_count": 46,
          "metadata": {},
          "output_type": "execute_result"
        }
      ],
      "source": [
        "autocorrect_min_edit('he planed a game', vocab)"
      ]
    },
    {
      "cell_type": "code",
      "execution_count": 47,
      "metadata": {
        "id": "BOv20Q8hxtou"
      },
      "outputs": [
        {
          "data": {
            "text/plain": [
              "'life is a drink anna ave is a rung'"
            ]
          },
          "execution_count": 47,
          "metadata": {},
          "output_type": "execute_result"
        }
      ],
      "source": [
        "autocorrect_min_edit('life is a diink annd lve is a druug', vocab)"
      ]
    },
    {
      "cell_type": "markdown",
      "metadata": {
        "id": "J9GnRf4oSAzH"
      },
      "source": [
        "## Evaluation\n",
        "\n",
        "Let's design a unit test for the auto-correct system that we have develpoed."
      ]
    },
    {
      "cell_type": "code",
      "execution_count": 48,
      "metadata": {
        "execution": {
          "iopub.execute_input": "2022-08-08T11:12:13.561510Z",
          "iopub.status.busy": "2022-08-08T11:12:13.560762Z",
          "iopub.status.idle": "2022-08-08T11:12:13.614862Z",
          "shell.execute_reply": "2022-08-08T11:12:13.613601Z",
          "shell.execute_reply.started": "2022-08-08T11:12:13.561467Z"
        },
        "id": "NHsCzJsPSAzH",
        "trusted": true
      },
      "outputs": [],
      "source": [
        "tests1 = {'access': 'acess',\n",
        "          'accessing': 'accesing',\n",
        "          'accommodation': 'accomodation acommodation acomodation',\n",
        "          'account': 'acount',\n",
        "          'address': 'adress adres',\n",
        "          'addressable': 'addresable',\n",
        "          'arranged': 'aranged arrainged',\n",
        "          'arrangeing': 'aranging',\n",
        "          'arrangement': 'arragment',\n",
        "          'articles': 'articals',\n",
        "          'aunt': 'annt anut arnt',\n",
        "          'auxiliary': 'auxillary',\n",
        "          'available': 'avaible',\n",
        "          'awful': 'awfall afful',\n",
        "          'basically': 'basicaly',\n",
        "          'beginning': 'begining',\n",
        "          'benefit': 'benifit',\n",
        "          'benefits': 'benifits',\n",
        "          'between': 'beetween',\n",
        "          'bicycle': 'bicycal bycicle bycycle',\n",
        "          'biscuits': 'biscits biscutes biscuts bisquits buiscits buiscuts',\n",
        "          'built': 'biult',\n",
        "          'cake': 'cak',\n",
        "          'career': 'carrer',\n",
        "          'cemetery': 'cemetary semetary',\n",
        "          'centrally': 'centraly',\n",
        "          'certain': 'cirtain',\n",
        "          'challenges': 'chalenges chalenges',\n",
        "          'chapter': 'chaper chaphter chaptur',\n",
        "          'choice': 'choise',\n",
        "          'choosing': 'chosing',\n",
        "          'clerical': 'clearical',\n",
        "          'committee': 'comittee',\n",
        "          'compare': 'compair',\n",
        "          'completely': 'completly',\n",
        "          'consider': 'concider',\n",
        "          'considerable': 'conciderable',\n",
        "          'contented': 'contenpted contende contended contentid',\n",
        "          'curtains': 'cartains certans courtens cuaritains curtans curtians curtions',\n",
        "          'decide': 'descide',\n",
        "          'decided': 'descided',\n",
        "          'definitely': 'definately difinately',\n",
        "          'definition': 'defenition',\n",
        "          'definitions': 'defenitions',\n",
        "          'description': 'discription',\n",
        "          'desiccate': 'desicate dessicate dessiccate',\n",
        "          'diagrammatically': 'diagrammaticaally',\n",
        "          'different': 'diffrent',\n",
        "          'driven': 'dirven',\n",
        "          'ecstasy': 'exstacy ecstacy',\n",
        "          'embarrass': 'embaras embarass',\n",
        "          'establishing': 'astablishing establising',\n",
        "          'experience': 'experance experiance',\n",
        "          'experiences': 'experances',\n",
        "          'extended': 'extented',\n",
        "          'extremely': 'extreamly',\n",
        "          'fails': 'failes',\n",
        "          'families': 'familes',\n",
        "          'february': 'febuary',\n",
        "          'further': 'futher',\n",
        "          'gallery': 'galery gallary gallerry gallrey',\n",
        "          'hierarchal': 'hierachial',\n",
        "          'hierarchy': 'hierchy',\n",
        "          'inconvenient': 'inconvienient inconvient inconvinient',\n",
        "          'independent': 'independant independant',\n",
        "          'initial': 'intial',\n",
        "          'initials': 'inetials inistals initails initals intials',\n",
        "          'juice': 'guic juce jucie juise juse',\n",
        "          'latest': 'lates latets latiest latist',\n",
        "          'laugh': 'lagh lauf laught lugh',\n",
        "          'level': 'leval',\n",
        "          'levels': 'levals',\n",
        "          'liaison': 'liaision liason',\n",
        "          'lieu': 'liew',\n",
        "          'literature': 'litriture',\n",
        "          'loans': 'lones',\n",
        "          'locally': 'localy',\n",
        "          'magnificent': 'magnificnet magificent magnifcent magnifecent magnifiscant magnifisent magnificant',\n",
        "          'management': 'managment',\n",
        "          'meant': 'ment',\n",
        "          'minuscule': 'miniscule',\n",
        "          'minutes': 'muinets',\n",
        "          'monitoring': 'monitering',\n",
        "          'necessary': 'neccesary necesary neccesary necassary necassery neccasary',\n",
        "          'occurrence': 'occurence occurence',\n",
        "          'often': 'ofen offen offten ofton',\n",
        "          'opposite': 'opisite oppasite oppesite oppisit oppisite opposit oppossite oppossitte',\n",
        "          'parallel': 'paralel paralell parrallel parralell parrallell',\n",
        "          'particular': 'particulaur',\n",
        "          'perhaps': 'perhapse',\n",
        "          'personnel': 'personnell',\n",
        "          'planned': 'planed',\n",
        "          'poem': 'poame',\n",
        "          'poems': 'poims pomes',\n",
        "          'poetry': 'poartry poertry poetre poety powetry',\n",
        "          'position': 'possition',\n",
        "          'possible': 'possable',\n",
        "          'pretend': 'pertend protend prtend pritend',\n",
        "          'problem': 'problam proble promblem proplen',\n",
        "          'pronunciation': 'pronounciation',\n",
        "          'purple': 'perple perpul poarple',\n",
        "          'questionnaire': 'questionaire',\n",
        "          'really': 'realy relley relly',\n",
        "          'receipt': 'receit receite reciet recipt',\n",
        "          'receive': 'recieve',\n",
        "          'refreshment': 'reafreshment refreshmant refresment refressmunt',\n",
        "          'remember': 'rember remeber rememmer rermember',\n",
        "          'remind': 'remine remined',\n",
        "          'scarcely': 'scarcly scarecly scarely scarsely',\n",
        "          'scissors': 'scisors sissors',\n",
        "          'separate': 'seperate',\n",
        "          'singular': 'singulaur',\n",
        "          'someone': 'somone',\n",
        "          'sources': 'sorces',\n",
        "          'southern': 'southen',\n",
        "          'special': 'speaical specail specal speical',\n",
        "          'splendid': 'spledid splended splened splended',\n",
        "          'standardizing': 'stanerdizing',\n",
        "          'stomach': 'stomac stomache stomec stumache',\n",
        "          'supersede': 'supercede superceed',\n",
        "          'there': 'ther',\n",
        "          'totally': 'totaly',\n",
        "          'transferred': 'transfred',\n",
        "          'transportability': 'transportibility',\n",
        "          'triangular': 'triangulaur',\n",
        "          'understand': 'undersand undistand',\n",
        "          'unexpected': 'unexpcted unexpeted unexspected',\n",
        "          'unfortunately': 'unfortunatly',\n",
        "          'unique': 'uneque',\n",
        "          'useful': 'usefull',\n",
        "          'valuable': 'valubale valuble',\n",
        "          'variable': 'varable',\n",
        "          'variant': 'vairiant',\n",
        "          'various': 'vairious',\n",
        "          'visited': 'fisited viseted vistid vistied',\n",
        "          'visitors': 'vistors',\n",
        "          'voluntary': 'volantry',\n",
        "          'voting': 'voteing',\n",
        "          'wanted': 'wantid wonted',\n",
        "          'whether': 'wether',\n",
        "          'wrote': 'rote wote'}\n",
        "\n",
        "tests2 = {'forbidden': 'forbiden',\n",
        "          'decisions': 'deciscions descisions',\n",
        "          'supposedly': 'supposidly',\n",
        "          'embellishing': 'embelishing',\n",
        "          'technique': 'tecnique',\n",
        "          'permanently': 'perminantly',\n",
        "          'confirmation': 'confermation',\n",
        "          'appointment': 'appoitment',\n",
        "          'progression': 'progresion',\n",
        "          'accompanying': 'acompaning',\n",
        "          'applicable': 'aplicable',\n",
        "          'regained': 'regined',\n",
        "          'guidelines': 'guidlines',\n",
        "          'surrounding': 'serounding',\n",
        "          'titles': 'tittles',\n",
        "          'unavailable': 'unavailble',\n",
        "          'advantageous': 'advantageos',\n",
        "          'brief': 'brif',\n",
        "          'appeal': 'apeal',\n",
        "          'consisting': 'consisiting',\n",
        "          'clerk': 'cleark clerck',\n",
        "          'component': 'componant',\n",
        "          'favourable': 'faverable',\n",
        "          'separation': 'seperation',\n",
        "          'search': 'serch',\n",
        "          'receive': 'recieve',\n",
        "          'employees': 'emploies',\n",
        "          'prior': 'piror',\n",
        "          'resulting': 'reulting',\n",
        "          'suggestion': 'sugestion',\n",
        "          'opinion': 'oppinion',\n",
        "          'cancellation': 'cancelation',\n",
        "          'criticism': 'citisum',\n",
        "          'useful': 'usful',\n",
        "          'humour': 'humor',\n",
        "          'anomalies': 'anomolies',\n",
        "          'would': 'whould',\n",
        "          'doubt': 'doupt',\n",
        "          'examination': 'eximination',\n",
        "          'therefore': 'therefoe',\n",
        "          'recommend': 'recomend',\n",
        "          'separated': 'seperated',\n",
        "          'successful': 'sucssuful succesful',\n",
        "          'apparent': 'apparant',\n",
        "          'occurred': 'occureed',\n",
        "          'particular': 'paerticulaur',\n",
        "          'pivoting': 'pivting',\n",
        "          'announcing': 'anouncing',\n",
        "          'challenge': 'chalange',\n",
        "          'arrangements': 'araingements',\n",
        "          'proportions': 'proprtions',\n",
        "          'organized': 'oranised',\n",
        "          'accept': 'acept',\n",
        "          'dependence': 'dependance',\n",
        "          'unequalled': 'unequaled',\n",
        "          'numbers': 'numbuers',\n",
        "          'sense': 'sence',\n",
        "          'conversely': 'conversly',\n",
        "          'provide': 'provid',\n",
        "          'arrangement': 'arrangment',\n",
        "          'responsibilities': 'responsiblities',\n",
        "          'fourth': 'forth',\n",
        "          'ordinary': 'ordenary',\n",
        "          'description': 'desription descvription desacription',\n",
        "          'inconceivable': 'inconcievable',\n",
        "          'data': 'dsata',\n",
        "          'register': 'rgister',\n",
        "          'supervision': 'supervison',\n",
        "          'encompassing': 'encompasing',\n",
        "          'negligible': 'negligable',\n",
        "          'allow': 'alow',\n",
        "          'operations': 'operatins',\n",
        "          'executed': 'executted',\n",
        "          'interpretation': 'interpritation',\n",
        "          'hierarchy': 'heiarky',\n",
        "          'indeed': 'indead',\n",
        "          'years': 'yesars',\n",
        "          'through': 'throut',\n",
        "          'committee': 'committe',\n",
        "          'inquiries': 'equiries',\n",
        "          'before': 'befor',\n",
        "          'continued': 'contuned',\n",
        "          'permanent': 'perminant',\n",
        "          'choose': 'chose',\n",
        "          'virtually': 'vertually',\n",
        "          'correspondence': 'correspondance',\n",
        "          'eventually': 'eventully',\n",
        "          'lonely': 'lonley',\n",
        "          'profession': 'preffeson',\n",
        "          'they': 'thay',\n",
        "          'now': 'noe',\n",
        "          'desperately': 'despratly',\n",
        "          'university': 'unversity',\n",
        "          'adjournment': 'adjurnment',\n",
        "          'possibilities': 'possablities',\n",
        "          'stopped': 'stoped',\n",
        "          'mean': 'meen',\n",
        "          'weighted': 'wagted',\n",
        "          'adequately': 'adequattly',\n",
        "          'shown': 'hown',\n",
        "          'matrix': 'matriiix',\n",
        "          'profit': 'proffit',\n",
        "          'encourage': 'encorage',\n",
        "          'collate': 'colate',\n",
        "          'disaggregate': 'disaggreagte disaggreaget',\n",
        "          'receiving': 'recieving reciving',\n",
        "          'proviso': 'provisoe',\n",
        "          'umbrella': 'umberalla',\n",
        "          'approached': 'aproached',\n",
        "          'pleasant': 'plesent',\n",
        "          'difficulty': 'dificulty',\n",
        "          'appointments': 'apointments',\n",
        "          'base': 'basse',\n",
        "          'conditioning': 'conditining',\n",
        "          'earliest': 'earlyest',\n",
        "          'beginning': 'begining',\n",
        "          'universally': 'universaly',\n",
        "          'unresolved': 'unresloved',\n",
        "          'length': 'lengh',\n",
        "          'exponentially': 'exponentualy',\n",
        "          'utilized': 'utalised',\n",
        "          'set': 'et',\n",
        "          'surveys': 'servays',\n",
        "          'families': 'familys',\n",
        "          'system': 'sysem',\n",
        "          'approximately': 'aproximatly',\n",
        "          'their': 'ther',\n",
        "          'scheme': 'scheem',\n",
        "          'speaking': 'speeking',\n",
        "          'repetitive': 'repetative',\n",
        "          'inefficient': 'ineffiect',\n",
        "          'geneva': 'geniva',\n",
        "          'exactly': 'exsactly',\n",
        "          'immediate': 'imediate',\n",
        "          'appreciation': 'apreciation',\n",
        "          'luckily': 'luckeley',\n",
        "          'eliminated': 'elimiated',\n",
        "          'believe': 'belive',\n",
        "          'appreciated': 'apreciated',\n",
        "          'readjusted': 'reajusted',\n",
        "          'were': 'wer where',\n",
        "          'feeling': 'fealing',\n",
        "          'and': 'anf',\n",
        "          'false': 'faulse',\n",
        "          'seen': 'seeen',\n",
        "          'interrogating': 'interogationg',\n",
        "          'academically': 'academicly',\n",
        "          'relatively': 'relativly relitivly',\n",
        "          'traditionally': 'traditionaly',\n",
        "          'studying': 'studing',\n",
        "          'majority': 'majorty',\n",
        "          'build': 'biuld',\n",
        "          'aggravating': 'agravating',\n",
        "          'transactions': 'trasactions',\n",
        "          'arguing': 'aurguing',\n",
        "          'sheets': 'sheertes',\n",
        "          'successive': 'sucsesive sucessive',\n",
        "          'segment': 'segemnt',\n",
        "          'especially': 'especaily',\n",
        "          'later': 'latter',\n",
        "          'senior': 'sienior',\n",
        "          'dragged': 'draged',\n",
        "          'atmosphere': 'atmospher',\n",
        "          'drastically': 'drasticaly',\n",
        "          'particularly': 'particulary',\n",
        "          'visitor': 'vistor',\n",
        "          'session': 'sesion',\n",
        "          'continually': 'contually',\n",
        "          'availability': 'avaiblity',\n",
        "          'busy': 'buisy',\n",
        "          'parameters': 'perametres',\n",
        "          'surroundings': 'suroundings seroundings',\n",
        "          'employed': 'emploied',\n",
        "          'adequate': 'adiquate',\n",
        "          'handle': 'handel',\n",
        "          'means': 'meens',\n",
        "          'familiar': 'familer',\n",
        "          'between': 'beeteen',\n",
        "          'overall': 'overal',\n",
        "          'timing': 'timeing',\n",
        "          'committees': 'comittees commitees',\n",
        "          'queries': 'quies',\n",
        "          'econometric': 'economtric',\n",
        "          'erroneous': 'errounous',\n",
        "          'decides': 'descides',\n",
        "          'reference': 'refereence refference',\n",
        "          'intelligence': 'inteligence',\n",
        "          'edition': 'ediion ediition',\n",
        "          'are': 'arte',\n",
        "          'apologies': 'appologies',\n",
        "          'thermawear': 'thermawere thermawhere',\n",
        "          'techniques': 'tecniques',\n",
        "          'voluntary': 'volantary',\n",
        "          'subsequent': 'subsequant subsiquent',\n",
        "          'currently': 'curruntly',\n",
        "          'forecast': 'forcast',\n",
        "          'weapons': 'wepons',\n",
        "          'routine': 'rouint',\n",
        "          'neither': 'niether',\n",
        "          'approach': 'aproach',\n",
        "          'available': 'availble',\n",
        "          'recently': 'reciently',\n",
        "          'ability': 'ablity',\n",
        "          'nature': 'natior',\n",
        "          'commercial': 'comersial',\n",
        "          'agencies': 'agences',\n",
        "          'however': 'howeverr',\n",
        "          'suggested': 'sugested',\n",
        "          'career': 'carear',\n",
        "          'many': 'mony',\n",
        "          'annual': 'anual',\n",
        "          'according': 'acording',\n",
        "          'receives': 'recives recieves',\n",
        "          'interesting': 'intresting',\n",
        "          'expense': 'expence',\n",
        "          'relevant': 'relavent relevaant',\n",
        "          'table': 'tasble',\n",
        "          'throughout': 'throuout',\n",
        "          'conference': 'conferance',\n",
        "          'sensible': 'sensable',\n",
        "          'described': 'discribed describd',\n",
        "          'union': 'unioun',\n",
        "          'interest': 'intrest',\n",
        "          'flexible': 'flexable',\n",
        "          'refered': 'reffered',\n",
        "          'controlled': 'controled',\n",
        "          'sufficient': 'suficient',\n",
        "          'dissension': 'desention',\n",
        "          'adaptable': 'adabtable',\n",
        "          'representative': 'representitive',\n",
        "          'irrelevant': 'irrelavent',\n",
        "          'unnecessarily': 'unessasarily',\n",
        "          'applied': 'upplied',\n",
        "          'apologised': 'appologised',\n",
        "          'these': 'thees thess',\n",
        "          'choices': 'choises',\n",
        "          'will': 'wil',\n",
        "          'procedure': 'proceduer',\n",
        "          'shortened': 'shortend',\n",
        "          'manually': 'manualy',\n",
        "          'disappointing': 'dissapoiting',\n",
        "          'excessively': 'exessively',\n",
        "          'comments': 'coments',\n",
        "          'containing': 'containg',\n",
        "          'develop': 'develope',\n",
        "          'credit': 'creadit',\n",
        "          'government': 'goverment',\n",
        "          'acquaintances': 'aquantences',\n",
        "          'orientated': 'orentated',\n",
        "          'widely': 'widly',\n",
        "          'advise': 'advice',\n",
        "          'difficult': 'dificult',\n",
        "          'investigated': 'investegated',\n",
        "          'bonus': 'bonas',\n",
        "          'conceived': 'concieved',\n",
        "          'nationally': 'nationaly',\n",
        "          'compared': 'comppared compased',\n",
        "          'moving': 'moveing',\n",
        "          'necessity': 'nessesity',\n",
        "          'opportunity': 'oppertunity oppotunity opperttunity',\n",
        "          'thoughts': 'thorts',\n",
        "          'equalled': 'equaled',\n",
        "          'variety': 'variatry',\n",
        "          'analysis': 'analiss analsis analisis',\n",
        "          'patterns': 'pattarns',\n",
        "          'qualities': 'quaties',\n",
        "          'easily': 'easyly',\n",
        "          'organization': 'oranisation oragnisation',\n",
        "          'the': 'thw hte thi',\n",
        "          'corporate': 'corparate',\n",
        "          'composed': 'compossed',\n",
        "          'enormously': 'enomosly',\n",
        "          'financially': 'financialy',\n",
        "          'functionally': 'functionaly',\n",
        "          'discipline': 'disiplin',\n",
        "          'announcement': 'anouncement',\n",
        "          'progresses': 'progressess',\n",
        "          'except': 'excxept',\n",
        "          'recommending': 'recomending',\n",
        "          'mathematically': 'mathematicaly',\n",
        "          'source': 'sorce',\n",
        "          'combine': 'comibine',\n",
        "          'input': 'inut',\n",
        "          'careers': 'currers carrers',\n",
        "          'resolved': 'resoved',\n",
        "          'demands': 'diemands',\n",
        "          'unequivocally': 'unequivocaly',\n",
        "          'suffering': 'suufering',\n",
        "          'immediately': 'imidatly imediatly',\n",
        "          'accepted': 'acepted',\n",
        "          'projects': 'projeccts',\n",
        "          'necessary': 'necasery nessasary nessisary neccassary',\n",
        "          'journalism': 'journaism',\n",
        "          'unnecessary': 'unessessay',\n",
        "          'night': 'nite',\n",
        "          'output': 'oputput',\n",
        "          'security': 'seurity',\n",
        "          'essential': 'esential',\n",
        "          'beneficial': 'benificial benficial',\n",
        "          'explaining': 'explaning',\n",
        "          'supplementary': 'suplementary',\n",
        "          'questionnaire': 'questionare',\n",
        "          'employment': 'empolyment',\n",
        "          'proceeding': 'proceding',\n",
        "          'decision': 'descisions descision',\n",
        "          'per': 'pere',\n",
        "          'discretion': 'discresion',\n",
        "          'reaching': 'reching',\n",
        "          'analysed': 'analised',\n",
        "          'expansion': 'expanion',\n",
        "          'although': 'athough',\n",
        "          'subtract': 'subtrcat',\n",
        "          'analysing': 'aalysing',\n",
        "          'comparison': 'comparrison',\n",
        "          'months': 'monthes',\n",
        "          'hierarchal': 'hierachial',\n",
        "          'misleading': 'missleading',\n",
        "          'commit': 'comit',\n",
        "          'auguments': 'aurgument',\n",
        "          'within': 'withing',\n",
        "          'obtaining': 'optaning',\n",
        "          'accounts': 'acounts',\n",
        "          'primarily': 'pimarily',\n",
        "          'operator': 'opertor',\n",
        "          'accumulated': 'acumulated',\n",
        "          'extremely': 'extreemly',\n",
        "          'there': 'thear',\n",
        "          'summarys': 'sumarys',\n",
        "          'analyse': 'analiss',\n",
        "          'understandable': 'understadable',\n",
        "          'safeguard': 'safegaurd',\n",
        "          'consist': 'consisit',\n",
        "          'declarations': 'declaratrions',\n",
        "          'minutes': 'muinutes muiuets',\n",
        "          'associated': 'assosiated',\n",
        "          'accessibility': 'accessability',\n",
        "          'examine': 'examin',\n",
        "          'surveying': 'servaying',\n",
        "          'politics': 'polatics',\n",
        "          'annoying': 'anoying',\n",
        "          'again': 'agiin',\n",
        "          'assessing': 'accesing',\n",
        "          'ideally': 'idealy',\n",
        "          'scrutinized': 'scrutiniesed',\n",
        "          'simular': 'similar',\n",
        "          'personnel': 'personel',\n",
        "          'whereas': 'wheras',\n",
        "          'when': 'whn',\n",
        "          'geographically': 'goegraphicaly',\n",
        "          'gaining': 'ganing',\n",
        "          'requested': 'rquested',\n",
        "          'separate': 'seporate',\n",
        "          'students': 'studens',\n",
        "          'prepared': 'prepaired',\n",
        "          'generated': 'generataed',\n",
        "          'graphically': 'graphicaly',\n",
        "          'suited': 'suted',\n",
        "          'variable': 'varible vaiable',\n",
        "          'building': 'biulding',\n",
        "          'required': 'reequired',\n",
        "          'necessitates': 'nessisitates',\n",
        "          'together': 'togehter',\n",
        "          'profits': 'proffits'}"
      ]
    },
    {
      "cell_type": "code",
      "execution_count": 49,
      "metadata": {
        "execution": {
          "iopub.execute_input": "2022-08-08T11:12:13.617301Z",
          "iopub.status.busy": "2022-08-08T11:12:13.616276Z",
          "iopub.status.idle": "2022-08-08T11:12:13.631753Z",
          "shell.execute_reply": "2022-08-08T11:12:13.630347Z",
          "shell.execute_reply.started": "2022-08-08T11:12:13.617264Z"
        },
        "id": "axg-JLvcSAzI",
        "trusted": true
      },
      "outputs": [],
      "source": [
        "# Function for testing on simple model\n",
        "def test_autocorrect(utdata, vocab, probs, string):\n",
        "    tcount = 0\n",
        "    fcount = 0\n",
        "    rcount = 0\n",
        "    print(\"Running \"+string+\" : Basic Auto-correct system\")\n",
        "    for k, v in utdata.items():\n",
        "        incorrect_list = v.strip().split()\n",
        "        #print(incorrect_list)\n",
        "        for w in incorrect_list:\n",
        "            tcount = tcount + 1\n",
        "            cw = get_correct_word(w, vocab, probs, 25)\n",
        "            if cw==k:\n",
        "                #print('correct')\n",
        "                rcount = rcount + 1\n",
        "            else:\n",
        "                #print('wrong')\n",
        "                fcount = fcount + 1\n",
        "    print(\"Accuracy : {} %\".format((rcount/tcount)*100))            "
      ]
    },
    {
      "cell_type": "markdown",
      "metadata": {
        "id": "TTaPK673SAzI"
      },
      "source": [
        "# Run all tests"
      ]
    },
    {
      "cell_type": "code",
      "execution_count": 50,
      "metadata": {
        "execution": {
          "iopub.execute_input": "2022-08-08T11:12:13.661514Z",
          "iopub.status.busy": "2022-08-08T11:12:13.660290Z",
          "iopub.status.idle": "2022-08-08T11:14:30.327944Z",
          "shell.execute_reply": "2022-08-08T11:14:30.326645Z",
          "shell.execute_reply.started": "2022-08-08T11:12:13.661480Z"
        },
        "id": "uKma4GqGSAzI",
        "trusted": true
      },
      "outputs": [
        {
          "name": "stdout",
          "output_type": "stream",
          "text": [
            "Running Unit Test 1 : Basic Auto-correct system\n",
            "Accuracy : 68.14814814814815 %\n",
            "Running Unit Test 2 : Basic Auto-correct system\n",
            "Accuracy : 64.75 %\n"
          ]
        }
      ],
      "source": [
        "# Test basic auto-correct\n",
        "test_autocorrect(tests1, vocab, probs, \"Unit Test 1\")\n",
        "test_autocorrect(tests2, vocab, probs, \"Unit Test 2\")"
      ]
    },
    {
      "cell_type": "markdown",
      "metadata": {
        "id": "k9rSUOYSSAzJ"
      },
      "source": [
        "# Now we are using a python library called textBlob for Spelling correction "
      ]
    },
    {
      "cell_type": "markdown",
      "metadata": {
        "execution": {
          "iopub.execute_input": "2022-08-08T10:59:59.417196Z",
          "iopub.status.busy": "2022-08-08T10:59:59.416815Z",
          "iopub.status.idle": "2022-08-08T10:59:59.424424Z",
          "shell.execute_reply": "2022-08-08T10:59:59.422726Z",
          "shell.execute_reply.started": "2022-08-08T10:59:59.417164Z"
        },
        "id": "I7UBS-U0SAzJ"
      },
      "source": [
        "# What is TextBlob?\n",
        "TextBlob is a Python library for processing textual data. It provides a consistent API for diving into common natural language processing (NLP) tasks such as part-of-speech tagging, noun phrase extraction, sentiment analysis, and more."
      ]
    },
    {
      "cell_type": "markdown",
      "metadata": {
        "id": "1VA-NqPVSAzJ"
      },
      "source": [
        "### STEP: 1 → Installing TextBlob"
      ]
    },
    {
      "cell_type": "code",
      "execution_count": 51,
      "metadata": {
        "execution": {
          "iopub.execute_input": "2022-08-08T11:15:55.482402Z",
          "iopub.status.busy": "2022-08-08T11:15:55.482023Z",
          "iopub.status.idle": "2022-08-08T11:16:06.270912Z",
          "shell.execute_reply": "2022-08-08T11:16:06.269543Z",
          "shell.execute_reply.started": "2022-08-08T11:15:55.482356Z"
        },
        "id": "ZASaJjJ_SAzO",
        "trusted": true
      },
      "outputs": [
        {
          "name": "stdout",
          "output_type": "stream",
          "text": [
            "Collecting textblob\n",
            "  Downloading textblob-0.17.1-py2.py3-none-any.whl (636 kB)\n",
            "Requirement already satisfied: nltk>=3.1 in c:\\users\\jayant\\appdata\\local\\programs\\python\\python39\\lib\\site-packages (from textblob) (3.7)\n",
            "Requirement already satisfied: joblib in c:\\users\\jayant\\appdata\\local\\programs\\python\\python39\\lib\\site-packages (from nltk>=3.1->textblob) (1.0.1)\n",
            "Requirement already satisfied: tqdm in c:\\users\\jayant\\appdata\\local\\programs\\python\\python39\\lib\\site-packages (from nltk>=3.1->textblob) (4.63.0)\n",
            "Requirement already satisfied: click in c:\\users\\jayant\\appdata\\local\\programs\\python\\python39\\lib\\site-packages (from nltk>=3.1->textblob) (8.1.3)\n",
            "Requirement already satisfied: regex>=2021.8.3 in c:\\users\\jayant\\appdata\\local\\programs\\python\\python39\\lib\\site-packages (from nltk>=3.1->textblob) (2022.7.25)\n",
            "Requirement already satisfied: colorama in c:\\users\\jayant\\appdata\\local\\programs\\python\\python39\\lib\\site-packages (from click->nltk>=3.1->textblob) (0.4.4)\n",
            "Installing collected packages: textblob\n",
            "Successfully installed textblob-0.17.1\n"
          ]
        },
        {
          "name": "stderr",
          "output_type": "stream",
          "text": [
            "WARNING: You are using pip version 21.1.1; however, version 22.2.2 is available.\n",
            "You should consider upgrading via the 'c:\\users\\jayant\\appdata\\local\\programs\\python\\python39\\python.exe -m pip install --upgrade pip' command.\n"
          ]
        }
      ],
      "source": [
        "! pip install textblob"
      ]
    },
    {
      "cell_type": "markdown",
      "metadata": {
        "id": "vW9SXEWaSAzO"
      },
      "source": [
        "### STEP: 2 → Load the Input for preprocessing"
      ]
    },
    {
      "cell_type": "code",
      "execution_count": 52,
      "metadata": {
        "execution": {
          "iopub.execute_input": "2022-08-08T11:16:06.275284Z",
          "iopub.status.busy": "2022-08-08T11:16:06.274821Z",
          "iopub.status.idle": "2022-08-08T11:16:06.280306Z",
          "shell.execute_reply": "2022-08-08T11:16:06.279505Z",
          "shell.execute_reply.started": "2022-08-08T11:16:06.275242Z"
        },
        "id": "3lHBk0sVSAzP",
        "trusted": true
      },
      "outputs": [],
      "source": [
        "from textblob import TextBlob\n",
        "import re"
      ]
    },
    {
      "cell_type": "markdown",
      "metadata": {
        "id": "hc2YQFsySAzP"
      },
      "source": [
        "`Next, load the input text (as docx) for which you need the correct the spelling`"
      ]
    },
    {
      "cell_type": "code",
      "execution_count": 53,
      "metadata": {
        "execution": {
          "iopub.execute_input": "2022-08-08T11:16:06.287204Z",
          "iopub.status.busy": "2022-08-08T11:16:06.286525Z",
          "iopub.status.idle": "2022-08-08T11:16:06.294041Z",
          "shell.execute_reply": "2022-08-08T11:16:06.293055Z",
          "shell.execute_reply.started": "2022-08-08T11:16:06.287162Z"
        },
        "id": "054CW1sISAzP",
        "trusted": true
      },
      "outputs": [
        {
          "name": "stdout",
          "output_type": "stream",
          "text": [
            "People have travelled through and inhabited the Toronto area, located on a broad sloping plateau interspersed with rivers, \n",
            "      deep ravines, and urban forest, for more than 10,000 years.[18] After the broadly disputed Torronto Purchase, when the \n",
            "      Mississauga surrendered the area to the British Crown,[19] the British established the town of York in 1793 and later \n",
            "      designeted it as the capital of Upper Canada.[20] During the War of 1812, the town was the site of the Battle of York and \n",
            "      suffered heavy damage by American troops.[21] York was renamed and incorporated in 1834 as the city of Toronto. It was \n",
            "      designated as the capitel of the province of Ontario in 1867 during Canadian Confederation.[22] The city proper has since \n",
            "      expanded past its original borders through both annexation and amalgamation to its current area of 630.2 km2 (243.3 sq mi). \n",
            "      The diverse population of Tornto reflects its current and historical role as an important destination for immigrants to Canada.\n",
            "      [23][24] More than 50 percent of residants belong to a visible minority population group,[25] and over 200 distinct ethnic \n",
            "      origins are represented among its inhabitats.[26] While the majority of Torontonians speak English as their premary language, \n",
            "      over 160 languages are spoken in the city.[27] Toront is a prominent center for music,[28] theatre,[29] motion picture \n",
            "      production,[30] and tilevision production,[31] and is home to the headquarters of Canada's major notional broadcast networks \n",
            "      and media outlets.[32] Its varied caltural institutions,[33] which include numerous museums and gelleries, festivals and \n",
            "      public events, entertaiment districts, national historic sites, and sports actevities,[34] attract over 43 million touriets \n",
            "      each year.[35][36] Torunto is known for its many skysvrapers and high-rise buildinds,[37] in particalar the tallest \n",
            "      free-standind structure in the Western Hemisphere, the CN Tower.\n"
          ]
        }
      ],
      "source": [
        "docx='''People have travelled through and inhabited the Toronto area, located on a broad sloping plateau interspersed with rivers, \n",
        "      deep ravines, and urban forest, for more than 10,000 years.[18] After the broadly disputed Torronto Purchase, when the \n",
        "      Mississauga surrendered the area to the British Crown,[19] the British established the town of York in 1793 and later \n",
        "      designeted it as the capital of Upper Canada.[20] During the War of 1812, the town was the site of the Battle of York and \n",
        "      suffered heavy damage by American troops.[21] York was renamed and incorporated in 1834 as the city of Toronto. It was \n",
        "      designated as the capitel of the province of Ontario in 1867 during Canadian Confederation.[22] The city proper has since \n",
        "      expanded past its original borders through both annexation and amalgamation to its current area of 630.2 km2 (243.3 sq mi). \n",
        "      The diverse population of Tornto reflects its current and historical role as an important destination for immigrants to Canada.\n",
        "      [23][24] More than 50 percent of residants belong to a visible minority population group,[25] and over 200 distinct ethnic \n",
        "      origins are represented among its inhabitats.[26] While the majority of Torontonians speak English as their premary language, \n",
        "      over 160 languages are spoken in the city.[27] Toront is a prominent center for music,[28] theatre,[29] motion picture \n",
        "      production,[30] and tilevision production,[31] and is home to the headquarters of Canada's major notional broadcast networks \n",
        "      and media outlets.[32] Its varied caltural institutions,[33] which include numerous museums and gelleries, festivals and \n",
        "      public events, entertaiment districts, national historic sites, and sports actevities,[34] attract over 43 million touriets \n",
        "      each year.[35][36] Torunto is known for its many skysvrapers and high-rise buildinds,[37] in particalar the tallest \n",
        "      free-standind structure in the Western Hemisphere, the CN Tower.'''\n",
        "\n",
        "print(docx)"
      ]
    },
    {
      "cell_type": "markdown",
      "metadata": {
        "id": "ddMYYB_1SAzP"
      },
      "source": [
        "`Here, we need to clean the input text using regex, since we don’t need any numeric characters.`"
      ]
    },
    {
      "cell_type": "code",
      "execution_count": 54,
      "metadata": {
        "execution": {
          "iopub.execute_input": "2022-08-08T11:16:06.295970Z",
          "iopub.status.busy": "2022-08-08T11:16:06.295299Z",
          "iopub.status.idle": "2022-08-08T11:16:06.311035Z",
          "shell.execute_reply": "2022-08-08T11:16:06.309778Z",
          "shell.execute_reply.started": "2022-08-08T11:16:06.295936Z"
        },
        "id": "egYBjhf_SAzP",
        "trusted": true
      },
      "outputs": [
        {
          "name": "stdout",
          "output_type": "stream",
          "text": [
            "People have travelled through and inhabited the Toronto area, located on a broad sloping plateau interspersed with rivers, deep ravines, and urban forest, for more than , years. After the broadly disputed Torronto Purchase, when the Mississauga surrendered the area to the British Crown, the British established the town of York in and later designeted it as the capital of Upper Canada. During the War of , the town was the site of the Battle of York and suffered heavy damage by American troops. York was renamed and incorporated in as the city of Toronto. It was designated as the capitel of the province of Ontario in during Canadian Confederation. The city proper has since expanded past its original borders through both annexation and amalgamation to its current area of . km . sq mi . The diverse population of Tornto reflects its current and historical role as an important destination for immigrants to Canada. More than percent of residants belong to a visible minority population group, and over distinct ethnic origins are represented among its inhabitats. While the majority of Torontonians speak English as their premary language, over languages are spoken in the city. Toront is a prominent center for music, theatre, motion picture production, and tilevision production, and is home to the headquarters of Canada s major notional broadcast networks and media outlets. Its varied caltural institutions, which include numerous museums and gelleries, festivals and public events, entertaiment districts, national historic sites, and sports actevities, attract over million touriets each year. Torunto is known for its many skysvrapers and high rise buildinds, in particalar the tallest free standind structure in the Western Hemisphere, the CN Tower.\n"
          ]
        }
      ],
      "source": [
        "import re\n",
        "str=re.findall(\"[a-zA-Z,.]+\",docx)\n",
        "updated_docx=(\" \".join(str))\n",
        "print(updated_docx)"
      ]
    },
    {
      "cell_type": "markdown",
      "metadata": {
        "id": "ivu-PR5oSAzP"
      },
      "source": [
        "### STEP: 3 → Identify the misspelled tokens"
      ]
    },
    {
      "cell_type": "markdown",
      "metadata": {
        "id": "7-Zu1UCWSAzP"
      },
      "source": [
        "At first, identify the misspelled tokens, to correct their spelling. For this, we can use the **SpellChecker** function from the spellchecker module."
      ]
    },
    {
      "cell_type": "code",
      "execution_count": 55,
      "metadata": {
        "execution": {
          "iopub.execute_input": "2022-08-08T11:16:06.312993Z",
          "iopub.status.busy": "2022-08-08T11:16:06.312157Z",
          "iopub.status.idle": "2022-08-08T11:16:27.572503Z",
          "shell.execute_reply": "2022-08-08T11:16:27.571134Z",
          "shell.execute_reply.started": "2022-08-08T11:16:06.312962Z"
        },
        "id": "GI-_tmpeSAzP",
        "trusted": true
      },
      "outputs": [
        {
          "name": "stdout",
          "output_type": "stream",
          "text": [
            "Collecting spellchecker"
          ]
        },
        {
          "name": "stderr",
          "output_type": "stream",
          "text": [
            "WARNING: You are using pip version 21.1.1; however, version 22.2.2 is available.\n",
            "You should consider upgrading via the 'c:\\users\\jayant\\appdata\\local\\programs\\python\\python39\\python.exe -m pip install --upgrade pip' command.\n"
          ]
        },
        {
          "name": "stdout",
          "output_type": "stream",
          "text": [
            "\n",
            "  Downloading spellchecker-0.4.tar.gz (3.9 MB)\n",
            "Requirement already satisfied: setuptools in c:\\users\\jayant\\appdata\\local\\programs\\python\\python39\\lib\\site-packages (from spellchecker) (56.0.0)\n",
            "Collecting inexactsearch\n",
            "  Downloading inexactsearch-1.0.2.tar.gz (21 kB)\n",
            "Collecting soundex>=1.0\n",
            "  Downloading soundex-1.1.3.tar.gz (9.1 kB)\n",
            "Collecting silpa_common>=0.3\n",
            "  Downloading silpa_common-0.3.tar.gz (9.4 kB)\n",
            "Building wheels for collected packages: spellchecker, inexactsearch, silpa-common, soundex\n",
            "  Building wheel for spellchecker (setup.py): started\n",
            "  Building wheel for spellchecker (setup.py): finished with status 'done'\n",
            "  Created wheel for spellchecker: filename=spellchecker-0.4-py3-none-any.whl size=3966516 sha256=c87abc03c875154583e6ece338ac28d7d07a6e0eff7f544c2695aaa4d7afa8d0\n",
            "  Stored in directory: c:\\users\\jayant\\appdata\\local\\pip\\cache\\wheels\\8c\\52\\b3\\8795c86fe999a3b1a7d0f1b75a197fd984e37057cb537e2977\n",
            "  Building wheel for inexactsearch (setup.py): started\n",
            "  Building wheel for inexactsearch (setup.py): finished with status 'done'\n",
            "  Created wheel for inexactsearch: filename=inexactsearch-1.0.2-py3-none-any.whl size=7122 sha256=e22b50ef6343ff2b5474ae8c5cb3a858a1357d0d90a6e76e66ec2e537bb45749\n",
            "  Stored in directory: c:\\users\\jayant\\appdata\\local\\pip\\cache\\wheels\\da\\15\\83\\b2b0adf6ebb17b0c7b8de4a901f0585ceb7627788a80071de0\n",
            "  Building wheel for silpa-common (setup.py): started\n",
            "  Building wheel for silpa-common (setup.py): finished with status 'done'\n",
            "  Created wheel for silpa-common: filename=silpa_common-0.3-py3-none-any.whl size=8470 sha256=81574329d78bbaff7abdb2daa97ea6ffab3fd9baa35eadbe1264778a6df93d79\n",
            "  Stored in directory: c:\\users\\jayant\\appdata\\local\\pip\\cache\\wheels\\a6\\6f\\59\\e83ae5c4ca78098dbecd1708dc7cd6856f202c0a008d8c3340\n",
            "  Building wheel for soundex (setup.py): started\n",
            "  Building wheel for soundex (setup.py): finished with status 'done'\n",
            "  Created wheel for soundex: filename=soundex-1.1.3-py3-none-any.whl size=8870 sha256=2e57c3e8efa114c101ab2f4e46bc85b796c024461b9a2e9c63e247cdb72fab91\n",
            "  Stored in directory: c:\\users\\jayant\\appdata\\local\\pip\\cache\\wheels\\e8\\fb\\75\\027059566520e35a1388cc49b69c84f6a28c4d530a5944ff55\n",
            "Successfully built spellchecker inexactsearch silpa-common soundex\n",
            "Installing collected packages: silpa-common, soundex, inexactsearch, spellchecker\n",
            "Successfully installed inexactsearch-1.0.2 silpa-common-0.3 soundex-1.1.3 spellchecker-0.4\n",
            "Collecting pyspellchecker\n",
            "  Downloading pyspellchecker-0.6.3-py3-none-any.whl (2.7 MB)\n",
            "Installing collected packages: pyspellchecker\n",
            "Successfully installed pyspellchecker-0.6.3\n"
          ]
        },
        {
          "name": "stderr",
          "output_type": "stream",
          "text": [
            "WARNING: You are using pip version 21.1.1; however, version 22.2.2 is available.\n",
            "You should consider upgrading via the 'c:\\users\\jayant\\appdata\\local\\programs\\python\\python39\\python.exe -m pip install --upgrade pip' command.\n"
          ]
        }
      ],
      "source": [
        "! pip install spellchecker\n",
        "! pip install pyspellchecker"
      ]
    },
    {
      "cell_type": "code",
      "execution_count": 56,
      "metadata": {
        "execution": {
          "iopub.execute_input": "2022-08-08T11:16:27.574728Z",
          "iopub.status.busy": "2022-08-08T11:16:27.574354Z",
          "iopub.status.idle": "2022-08-08T11:16:27.740759Z",
          "shell.execute_reply": "2022-08-08T11:16:27.739426Z",
          "shell.execute_reply.started": "2022-08-08T11:16:27.574682Z"
        },
        "id": "AjunBtp-SAzP",
        "trusted": true
      },
      "outputs": [
        {
          "name": "stdout",
          "output_type": "stream",
          "text": [
            "{'toronto.', 'language,', 'institutions,', 'capitel', 'designeted', 'sites,', 'hemisphere,', 'area,', 'buildinds,', 'rivers,', 'inhabitats.', 'actevities,', 'touriets', 'tilevision', 'torronto', 'production,', 'year.', 'km', 'residants', 'music,', 'outlets.', 'cn', 's', 'standind', 'city.', 'torunto', 'toront', 'sq', 'gelleries,', 'purchase,', 'theatre,', 'events,', 'premary', 'entertaiment', 'troops.', 'caltural', 'forest,', 'canada.', 'tornto', 'crown,', 'torontonians', 'districts,', 'skysvrapers', 'ravines,', 'years.', 'particalar', 'confederation.', 'tower.', 'mississauga', 'group,'}\n"
          ]
        }
      ],
      "source": [
        "from spellchecker import SpellChecker\n",
        "spell = SpellChecker()\n",
        "\n",
        "misspelled = spell.unknown(str)\n",
        "print(misspelled)"
      ]
    },
    {
      "cell_type": "markdown",
      "metadata": {
        "id": "JkDumU36SAzP"
      },
      "source": [
        "### STEP: 4 → Error correction process"
      ]
    },
    {
      "cell_type": "markdown",
      "metadata": {
        "id": "4LddUxDqSAzQ"
      },
      "source": [
        "Store the updated text with TextBlob object.\n",
        "\n",
        "Use the **correct()** method to attempt spelling correction."
      ]
    },
    {
      "cell_type": "code",
      "execution_count": 57,
      "metadata": {
        "execution": {
          "iopub.execute_input": "2022-08-08T11:16:27.743267Z",
          "iopub.status.busy": "2022-08-08T11:16:27.742322Z",
          "iopub.status.idle": "2022-08-08T11:16:32.691644Z",
          "shell.execute_reply": "2022-08-08T11:16:32.690352Z",
          "shell.execute_reply.started": "2022-08-08T11:16:27.743232Z"
        },
        "id": "isEVcKw_SAzQ",
        "trusted": true
      },
      "outputs": [
        {
          "name": "stdout",
          "output_type": "stream",
          "text": [
            "People have travelled through and inhabited the Toronto area, located on a broad sloping plateau interspersed with rivers, deep ravines, and urban forest, for more than , years. After the broadly disputed Torronto Purchase, when the Mississauga surrendered the area to the British Grown, the British established the town of Work in and later designed it as the capital of Upper Canada. During the War of , the town was the site of the Battle of Work and suffered heavy damage by American troops. Work was renamed and incorporated in as the city of Toronto. It was designate as the capital of the province of Ontario in during Canadian Confederation. The city proper has since expanded past its original borders through both annexation and amalgamation to its current area of . km . sq mi . The diverse population of Onto reflect its current and historical role as an important destination for immigrants to Canada. More than percent of residents belong to a visible minority population group, and over distinct ethnic origins are represented among its inhabitants. While the majority of Torontonians speak English as their primary language, over languages are spoken in the city. Front is a prominent center for music, theatre, motion picture production, and television production, and is home to the headquarters of Canada s major national broadcast network and media outlets. Its varied cultural institutions, which include numerous museums and galleries, festival and public events, entertainment districts, national historic sites, and sports activities, attract over million tories each year. Torunto is known for its many skysvrapers and high rise buildings, in particular the tables free standing structure in the Western Hemisphere, the of Power.\n"
          ]
        }
      ],
      "source": [
        "new_doc = TextBlob(updated_docx)\n",
        "\n",
        "result = new_doc.correct()\n",
        "\n",
        "print(result)"
      ]
    },
    {
      "cell_type": "markdown",
      "metadata": {
        "id": "dVP7srFPr2mH"
      },
      "source": [
        "### Combining all above steps and making a function that will take the text and correct it "
      ]
    },
    {
      "cell_type": "code",
      "execution_count": 58,
      "metadata": {
        "id": "PTEJBbBiSAzQ"
      },
      "outputs": [],
      "source": [
        "def auto_correct(docx):\n",
        "  # input -->\n",
        "  #           docx --> doc or sentence which we want to correct\n",
        "  # output -->\n",
        "  #           result --> final result after correcting misspelled words in sentence\n",
        "\n",
        "  str_=re.findall(\"[a-zA-Z,.]+\",docx)  # Cleaning docx only taking alphabetic words \n",
        "  updated_docx=(\" \".join(str_))       \n",
        "\n",
        "  spell = SpellChecker()              # Spelling checker from spellchecker library\n",
        "  misspelled = spell.unknown(str)     # finding misspelled words from docx\n",
        "\n",
        "  new_doc = TextBlob(updated_docx)    # Using TextBlob from textblob library\n",
        "\n",
        "  result = new_doc.correct()          # correcting all wrong words \n",
        "\n",
        "  print(result)"
      ]
    },
    {
      "cell_type": "markdown",
      "metadata": {
        "id": "LgDHNJOiweLA"
      },
      "source": [
        "## Demo"
      ]
    },
    {
      "cell_type": "code",
      "execution_count": 59,
      "metadata": {
        "id": "5AOfyVyxwaPn"
      },
      "outputs": [
        {
          "name": "stdout",
          "output_type": "stream",
          "text": [
            "I have access to the library\n"
          ]
        }
      ],
      "source": [
        "auto_correct('I have access to the lidrary')"
      ]
    },
    {
      "cell_type": "code",
      "execution_count": 60,
      "metadata": {
        "id": "AOSknZG9wjgU"
      },
      "outputs": [
        {
          "name": "stdout",
          "output_type": "stream",
          "text": [
            "life is a drink and love is a drug\n"
          ]
        }
      ],
      "source": [
        "auto_correct('life is a diink annd lve is a druug')"
      ]
    },
    {
      "cell_type": "code",
      "execution_count": null,
      "metadata": {
        "id": "grk5IBIRsNmy"
      },
      "outputs": [],
      "source": []
    }
  ],
  "metadata": {
    "colab": {
      "name": "auto-correct-system.ipynb",
      "provenance": []
    },
    "kernelspec": {
      "display_name": "Python 3.9.5 64-bit",
      "language": "python",
      "name": "python3"
    },
    "language_info": {
      "codemirror_mode": {
        "name": "ipython",
        "version": 3
      },
      "file_extension": ".py",
      "mimetype": "text/x-python",
      "name": "python",
      "nbconvert_exporter": "python",
      "pygments_lexer": "ipython3",
      "version": "3.9.5"
    },
    "vscode": {
      "interpreter": {
        "hash": "618e5e638b401e22e583428c43508ab6d6e0bb8c8e5e24bdbc65a70bb0755382"
      }
    }
  },
  "nbformat": 4,
  "nbformat_minor": 0
}
